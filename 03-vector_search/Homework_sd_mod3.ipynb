{
 "cells": [
  {
   "cell_type": "code",
   "execution_count": null,
   "metadata": {},
   "outputs": [],
   "source": []
  },
  {
   "cell_type": "markdown",
   "metadata": {},
   "source": [
    "## Homework: Vector Search\n",
    "\n",
    "In this homework, we'll experiemnt with vector with and without Elasticsearch\n",
    "\n",
    "## Q1. Getting the embeddings model\n",
    "\n",
    "First, we will get the embeddings model `multi-qa-distilbert-cos-v1` from\n",
    "[the Sentence Transformer library](https://www.sbert.net/docs/sentence_transformer/pretrained_models.html#model-overview)\n"
   ]
  },
  {
   "cell_type": "code",
   "execution_count": 1,
   "metadata": {},
   "outputs": [
    {
     "data": {
      "application/vnd.jupyter.widget-view+json": {
       "model_id": "9031d6e2059546d88ec3d8e9e4917214",
       "version_major": 2,
       "version_minor": 0
      },
      "text/plain": [
       "modules.json:   0%|          | 0.00/349 [00:00<?, ?B/s]"
      ]
     },
     "metadata": {},
     "output_type": "display_data"
    },
    {
     "data": {
      "application/vnd.jupyter.widget-view+json": {
       "model_id": "99e3aa5e386348dea6058e623591e1b8",
       "version_major": 2,
       "version_minor": 0
      },
      "text/plain": [
       "config_sentence_transformers.json:   0%|          | 0.00/116 [00:00<?, ?B/s]"
      ]
     },
     "metadata": {},
     "output_type": "display_data"
    },
    {
     "data": {
      "application/vnd.jupyter.widget-view+json": {
       "model_id": "be564b345ccf4697aeaffa8fb9c33ff6",
       "version_major": 2,
       "version_minor": 0
      },
      "text/plain": [
       "README.md:   0%|          | 0.00/9.52k [00:00<?, ?B/s]"
      ]
     },
     "metadata": {},
     "output_type": "display_data"
    },
    {
     "data": {
      "application/vnd.jupyter.widget-view+json": {
       "model_id": "4187cd851740412c82618ce38351f015",
       "version_major": 2,
       "version_minor": 0
      },
      "text/plain": [
       "sentence_bert_config.json:   0%|          | 0.00/53.0 [00:00<?, ?B/s]"
      ]
     },
     "metadata": {},
     "output_type": "display_data"
    },
    {
     "data": {
      "application/vnd.jupyter.widget-view+json": {
       "model_id": "a4e0830427f5479f8af9a43b420adbcc",
       "version_major": 2,
       "version_minor": 0
      },
      "text/plain": [
       "config.json:   0%|          | 0.00/523 [00:00<?, ?B/s]"
      ]
     },
     "metadata": {},
     "output_type": "display_data"
    },
    {
     "data": {
      "application/vnd.jupyter.widget-view+json": {
       "model_id": "bcc13490d82f4789bbd8a490b71ac932",
       "version_major": 2,
       "version_minor": 0
      },
      "text/plain": [
       "model.safetensors:   0%|          | 0.00/265M [00:00<?, ?B/s]"
      ]
     },
     "metadata": {},
     "output_type": "display_data"
    },
    {
     "data": {
      "application/vnd.jupyter.widget-view+json": {
       "model_id": "03a79847589340c5929fb81b6a4585bb",
       "version_major": 2,
       "version_minor": 0
      },
      "text/plain": [
       "tokenizer_config.json:   0%|          | 0.00/333 [00:00<?, ?B/s]"
      ]
     },
     "metadata": {},
     "output_type": "display_data"
    },
    {
     "data": {
      "application/vnd.jupyter.widget-view+json": {
       "model_id": "dc5bc232d2914efc8c8bec03c4b9ffa8",
       "version_major": 2,
       "version_minor": 0
      },
      "text/plain": [
       "vocab.txt:   0%|          | 0.00/232k [00:00<?, ?B/s]"
      ]
     },
     "metadata": {},
     "output_type": "display_data"
    },
    {
     "data": {
      "application/vnd.jupyter.widget-view+json": {
       "model_id": "da00e46286704658a27fccd34cfc4709",
       "version_major": 2,
       "version_minor": 0
      },
      "text/plain": [
       "tokenizer.json:   0%|          | 0.00/466k [00:00<?, ?B/s]"
      ]
     },
     "metadata": {},
     "output_type": "display_data"
    },
    {
     "data": {
      "application/vnd.jupyter.widget-view+json": {
       "model_id": "a3cb5f13bf5e4f89a19c95b4143ce92f",
       "version_major": 2,
       "version_minor": 0
      },
      "text/plain": [
       "special_tokens_map.json:   0%|          | 0.00/112 [00:00<?, ?B/s]"
      ]
     },
     "metadata": {},
     "output_type": "display_data"
    },
    {
     "data": {
      "application/vnd.jupyter.widget-view+json": {
       "model_id": "0a7feb84481243999f31974190ea1a64",
       "version_major": 2,
       "version_minor": 0
      },
      "text/plain": [
       "1_Pooling/config.json:   0%|          | 0.00/190 [00:00<?, ?B/s]"
      ]
     },
     "metadata": {},
     "output_type": "display_data"
    }
   ],
   "source": [
    "# Please perform \"pip install sentence_transformers==2.7.0\"\n",
    "from sentence_transformers import SentenceTransformer\n",
    "\n",
    "# if you get an error do the following:\n",
    "# 1. Uninstall numpy \n",
    "# 2. Uninstall torch\n",
    "# 3. pip install numpy==1.26.4\n",
    "# 4. pip install torch\n",
    "# run the above cell, it should work\n",
    "model = SentenceTransformer(\"multi-qa-distilbert-cos-v1\")"
   ]
  },
  {
   "cell_type": "code",
   "execution_count": 99,
   "metadata": {},
   "outputs": [
    {
     "data": {
      "text/plain": [
       "'Answer 1 : value of first embedding vector 0.078'"
      ]
     },
     "execution_count": 99,
     "metadata": {},
     "output_type": "execute_result"
    }
   ],
   "source": [
    "user_question = \"I just discovered the course. Can I still join it?\"\n",
    "\n",
    "\n",
    "f'Answer 1 : value of first embedding vector {model.encode(user_question)[0] :.3f}'\n"
   ]
  },
  {
   "cell_type": "markdown",
   "metadata": {},
   "source": [
    "# Prepare the documents\n",
    "\n",
    "Now we will create the embeddings for the documents.\n",
    "\n",
    "Load the documents with ids that we prepared in the module:"
   ]
  },
  {
   "cell_type": "code",
   "execution_count": 19,
   "metadata": {},
   "outputs": [],
   "source": [
    "import requests \n",
    "\n",
    "base_url = 'https://github.com/DataTalksClub/llm-zoomcamp/blob/main'\n",
    "relative_url = '03-vector-search/eval/documents-with-ids.json'\n",
    "docs_url = f'{base_url}/{relative_url}?raw=1'\n",
    "docs_response = requests.get(docs_url)\n",
    "documents = docs_response.json()"
   ]
  },
  {
   "cell_type": "markdown",
   "metadata": {},
   "source": [
    "We will use only a subset of the questions - the questions for \"machine-learning-zoomcamp\". After filtering, you should have only 375 documents"
   ]
  },
  {
   "cell_type": "code",
   "execution_count": 20,
   "metadata": {},
   "outputs": [
    {
     "data": {
      "text/plain": [
       "{'text': \"The purpose of this document is to capture frequently asked technical questions\\nThe exact day and hour of the course will be 15th Jan 2024 at 17h00. The course will start with the first  “Office Hours'' live.1\\nSubscribe to course public Google Calendar (it works from Desktop only).\\nRegister before the course starts using this link.\\nJoin the course Telegram channel with announcements.\\nDon’t forget to register in DataTalks.Club's Slack and join the channel.\",\n",
       " 'section': 'General course-related questions',\n",
       " 'question': 'Course - When will the course start?',\n",
       " 'course': 'data-engineering-zoomcamp',\n",
       " 'id': 'c02e79ef'}"
      ]
     },
     "execution_count": 20,
     "metadata": {},
     "output_type": "execute_result"
    }
   ],
   "source": [
    "documents[0]"
   ]
  },
  {
   "cell_type": "code",
   "execution_count": 21,
   "metadata": {},
   "outputs": [
    {
     "data": {
      "text/plain": [
       "375"
      ]
     },
     "execution_count": 21,
     "metadata": {},
     "output_type": "execute_result"
    }
   ],
   "source": [
    "# Function to filter documents by course\n",
    "def filter_documents_by_course(documents, course_name):\n",
    "    return [doc for doc in documents if doc['course'] == course_name]\n",
    "\n",
    "# Example usage\n",
    "filtered_documents = filter_documents_by_course(documents, 'machine-learning-zoomcamp')\n",
    "\n",
    "# Print the filtered documents\n",
    "len(filtered_documents)"
   ]
  },
  {
   "cell_type": "code",
   "execution_count": 22,
   "metadata": {},
   "outputs": [
    {
     "data": {
      "text/plain": [
       "{'text': 'Machine Learning Zoomcamp FAQ\\nThe purpose of this document is to capture frequently asked technical questions.\\nWe did this for our data engineering course and it worked quite well. Check this document for inspiration on how to structure your questions and answers:\\nData Engineering Zoomcamp FAQ\\nIn the course GitHub repository there’s a link. Here it is: https://airtable.com/shryxwLd0COOEaqXo\\nwork',\n",
       " 'section': 'General course-related questions',\n",
       " 'question': 'How do I sign up?',\n",
       " 'course': 'machine-learning-zoomcamp',\n",
       " 'id': '0227b872'}"
      ]
     },
     "execution_count": 22,
     "metadata": {},
     "output_type": "execute_result"
    }
   ],
   "source": [
    "filtered_documents[0]"
   ]
  },
  {
   "cell_type": "markdown",
   "metadata": {},
   "source": [
    "# Q2. Creating the embeddings\n",
    "\n",
    "\n",
    "\n",
    "Now for each document, we will create an embedding for both question and answer fields.\n",
    "\n",
    "We want to put all of them into a single matrix `X`:\n",
    "\n",
    "- Create a list `embeddings` \n",
    "- Iterate over each document \n",
    "- `qa_text = f'{question} {text}    '`\n",
    "- compute the embedding for `qa_text`, append to `embeddings`\n",
    "- At the end, let `X = np.array(embeddings)` (`import numpy as np`) \n",
    "\n",
    "What's the shape of X? (`X.shape`). Include the parantheses. "
   ]
  },
  {
   "cell_type": "code",
   "execution_count": 42,
   "metadata": {},
   "outputs": [
    {
     "name": "stderr",
     "output_type": "stream",
     "text": [
      "100%|██████████| 375/375 [01:03<00:00,  5.91it/s]"
     ]
    },
    {
     "name": "stdout",
     "output_type": "stream",
     "text": [
      "Shape of X: (375, 768)\n"
     ]
    },
    {
     "name": "stderr",
     "output_type": "stream",
     "text": [
      "\n"
     ]
    }
   ],
   "source": [
    "from tqdm import tqdm\n",
    "import numpy as np\n",
    "\n",
    "# Create a list to hold embeddings\n",
    "embeddings = []\n",
    "\n",
    "# Iterate over each document\n",
    "for doc in tqdm(filtered_documents):\n",
    "    # Concatenate question and text\n",
    "    qa_text = f\"{doc['question']} {doc['text']}\"\n",
    "    \n",
    "    # Compute the embedding for qa_text\n",
    "    embedding = model.encode(qa_text)\n",
    "    \n",
    "    # Append the embedding to the embeddings list\n",
    "    embeddings.append(embedding)\n",
    "\n",
    "# Convert the list of embeddings to a NumPy array\n",
    "X = np.array(embeddings)\n",
    "\n",
    "# Print the shape of X\n",
    "print(f\"Shape of X: {X.shape}\")"
   ]
  },
  {
   "cell_type": "markdown",
   "metadata": {},
   "source": [
    "# Q3. Search\n",
    "\n",
    "We have the embeddings and the query vector. Now let's compute the cosine similarity between the vector from Q1 (let's call it v) and the matrix from Q2.\n",
    "\n",
    "The vectors returned from the embedding model are already normalized (you can check it by computing a dot product of a vector with itself - it should return something very close to 1.0). This means that in order to compute the coside similarity, it's sufficient to multiply the matrix X by the vector v:"
   ]
  },
  {
   "cell_type": "code",
   "execution_count": 44,
   "metadata": {},
   "outputs": [],
   "source": [
    "user_question = \"I just discovered the course. Can I still join it?\"\n",
    "\n",
    "\n",
    "v = model.encode(user_question)\n"
   ]
  },
  {
   "cell_type": "code",
   "execution_count": 45,
   "metadata": {},
   "outputs": [
    {
     "data": {
      "text/plain": [
       "'highest score 0.65'"
      ]
     },
     "execution_count": 45,
     "metadata": {},
     "output_type": "execute_result"
    }
   ],
   "source": [
    "scores = X.dot(v)\n",
    "f'highest score {scores.max():.2f}' "
   ]
  },
  {
   "cell_type": "markdown",
   "metadata": {},
   "source": [
    "# Vector search\n",
    "\n",
    "We can now compute the similarity between a query vector and all the embeddings.\n",
    "\n",
    "Let's use this to implement our own vector search\n",
    "\n",
    "`class VectorSearchEngine():\n",
    "    def __init__(self, documents, embeddings):\n",
    "        self.documents = documents\n",
    "        self.embeddings = embeddings`\n",
    "\n",
    "    `def search(self, v_query, num_results=10):\n",
    "        scores = self.embeddings.dot(v_query)\n",
    "        idx = np.argsort(-scores)[:num_results]\n",
    "        return [self.documents[i] for i in idx]`\n",
    "\n",
    "`search_engine = VectorSearchEngine(documents=documents, embeddings=X)`\n",
    "`search_engine.search(v, num_results=5)`"
   ]
  },
  {
   "cell_type": "code",
   "execution_count": 46,
   "metadata": {},
   "outputs": [
    {
     "data": {
      "text/plain": [
       "[{'text': 'Yes, you can. You won’t be able to submit some of the homeworks, but you can still take part in the course.\\nIn order to get a certificate, you need to submit 2 out of 3 course projects and review 3 peers’ Projects by the deadline. It means that if you join the course at the end of November and manage to work on two projects, you will still be eligible for a certificate.',\n",
       "  'section': 'General course-related questions',\n",
       "  'question': 'The course has already started. Can I still join it?',\n",
       "  'course': 'machine-learning-zoomcamp',\n",
       "  'id': 'ee58a693'},\n",
       " {'text': 'Welcome to the course! Go to the course page (http://mlzoomcamp.com/), scroll down and start going through the course materials. Then read everything in the cohort folder for your cohort’s year.\\nClick on the links and start watching the videos. Also watch office hours from previous cohorts. Go to DTC youtube channel and click on Playlists and search for {course yyyy}. ML Zoomcamp was first launched in 2021.\\nOr you can just use this link: http://mlzoomcamp.com/#syllabus',\n",
       "  'section': 'General course-related questions',\n",
       "  'question': 'I just joined. What should I do next? How can I access course materials?',\n",
       "  'course': 'machine-learning-zoomcamp',\n",
       "  'id': '0a278fb2'},\n",
       " {'text': \"The process is automated now, so you should receive the email eventually. If you haven’t, check your promotions tab in Gmail as well as spam.\\nIf you unsubscribed from our newsletter, you won't get course related updates too.\\nBut don't worry, it’s not a problem. To make sure you don’t miss anything, join the #course-ml-zoomcamp channel in Slack and our telegram channel with announcements. This is enough to follow the course.\",\n",
       "  'section': 'General course-related questions',\n",
       "  'question': \"I filled the form, but haven't received a confirmation email. Is it normal?\",\n",
       "  'course': 'machine-learning-zoomcamp',\n",
       "  'id': '6ba259b1'},\n",
       " {'text': 'Technically, yes. Advisable? Not really. Reasons:\\nSome homework(s) asks for specific python library versions.\\nAnswers may not match in MCQ options if using different languages other than Python 3.10 (the recommended version for 2023 cohort)\\nAnd as for midterms/capstones, your peer-reviewers may not know these other languages. Do you want to be penalized for others not knowing these other languages?\\nYou can create a separate repo using course’s lessons but written in other languages for your own learnings, but not advisable for submissions.\\ntx[source]',\n",
       "  'section': 'Miscellaneous',\n",
       "  'question': 'Can I do the course in other languages, like R or Scala?',\n",
       "  'course': 'machine-learning-zoomcamp',\n",
       "  'id': '9f261648'},\n",
       " {'text': 'We won’t re-record the course videos. The focus of the course and the skills we want to teach remained the same, and the videos are still up-to-date.\\nIf you haven’t taken part in the previous iteration, you can start watching the videos. It’ll be useful for you and you will learn new things. However, we recommend using Python 3.10 now instead of Python 3.8.',\n",
       "  'section': 'General course-related questions',\n",
       "  'question': 'The course videos are from the previous iteration. Will you release new ones or we’ll use the videos from 2021?',\n",
       "  'course': 'machine-learning-zoomcamp',\n",
       "  'id': 'e7ba6b8a'}]"
      ]
     },
     "execution_count": 46,
     "metadata": {},
     "output_type": "execute_result"
    }
   ],
   "source": [
    "class VectorSearchEngine():\n",
    "    def __init__(self, documents, embeddings):\n",
    "        self.documents = documents\n",
    "        self.embeddings = embeddings\n",
    "\n",
    "    def search(self, v_query, num_results=10):\n",
    "        scores = self.embeddings.dot(v_query)\n",
    "        idx = np.argsort(-scores)[:num_results]\n",
    "        return [self.documents[i] for i in idx]\n",
    "\n",
    "search_engine = VectorSearchEngine(documents=filtered_documents, embeddings=X)\n",
    "search_engine.search(v, num_results=5)"
   ]
  },
  {
   "cell_type": "code",
   "execution_count": null,
   "metadata": {},
   "outputs": [],
   "source": []
  },
  {
   "cell_type": "markdown",
   "metadata": {},
   "source": [
    "# Q4. Hit-rate for our search engine\n",
    "\n",
    "Let's evaluate the performance of our own search engine. We will use the hitrate metric for evaluation.\n",
    "\n",
    "First, load the ground truth dataset:"
   ]
  },
  {
   "cell_type": "code",
   "execution_count": 47,
   "metadata": {},
   "outputs": [],
   "source": [
    "import pandas as pd\n",
    "\n",
    "base_url = 'https://github.com/DataTalksClub/llm-zoomcamp/blob/main'\n",
    "relative_url = '03-vector-search/eval/ground-truth-data.csv'\n",
    "ground_truth_url = f'{base_url}/{relative_url}?raw=1'\n",
    "\n",
    "df_ground_truth = pd.read_csv(ground_truth_url)\n",
    "df_ground_truth = df_ground_truth[df_ground_truth.course == 'machine-learning-zoomcamp']\n",
    "ground_truth = df_ground_truth.to_dict(orient='records')"
   ]
  },
  {
   "cell_type": "code",
   "execution_count": null,
   "metadata": {},
   "outputs": [
    {
     "data": {
      "text/plain": [
       "{'question': 'Where can I sign up for the course?',\n",
       " 'course': 'machine-learning-zoomcamp',\n",
       " 'document': '0227b872'}"
      ]
     },
     "execution_count": 48,
     "metadata": {},
     "output_type": "execute_result"
    }
   ],
   "source": [
    "print(len(ground_truth))\n",
    "ground_truth[0]\n"
   ]
  },
  {
   "cell_type": "code",
   "execution_count": 50,
   "metadata": {},
   "outputs": [],
   "source": [
    "def query_to_vector(query):\n",
    "    # Convert query to its vector representation using the same model\n",
    "    return model.encode(query)\n"
   ]
  },
  {
   "cell_type": "code",
   "execution_count": 72,
   "metadata": {},
   "outputs": [
    {
     "data": {
      "text/plain": [
       "'Where can I sign up for the course?'"
      ]
     },
     "execution_count": 72,
     "metadata": {},
     "output_type": "execute_result"
    }
   ],
   "source": [
    "ground_truth[0]['question']"
   ]
  },
  {
   "cell_type": "code",
   "execution_count": 75,
   "metadata": {},
   "outputs": [
    {
     "data": {
      "text/plain": [
       "'c6a22665'"
      ]
     },
     "execution_count": 75,
     "metadata": {},
     "output_type": "execute_result"
    }
   ],
   "source": [
    "a = query_to_vector(ground_truth[0]['question'])\n",
    "results = search_engine.search(query_vector, num_results=5) \n",
    "results[0]['id']"
   ]
  },
  {
   "cell_type": "code",
   "execution_count": 76,
   "metadata": {},
   "outputs": [
    {
     "name": "stderr",
     "output_type": "stream",
     "text": [
      "100%|██████████| 1830/1830 [01:28<00:00, 20.75it/s]\n"
     ]
    }
   ],
   "source": [
    "relevance_total = []\n",
    "\n",
    "# Perform search and evaluate relevance for all ground truth queries\n",
    "for q in tqdm(ground_truth):\n",
    "    doc_id = q['document']\n",
    "    query_vector = query_to_vector(q['question'])\n",
    "    results = search_engine.search(query_vector, num_results=5)  # Search for top 5 results\n",
    "     # Evaluate relevance\n",
    "    relevance = [doc['id'] == doc_id for doc in results]\n",
    "    relevance_total.append(relevance)"
   ]
  },
  {
   "cell_type": "code",
   "execution_count": 53,
   "metadata": {},
   "outputs": [],
   "source": [
    "def hit_rate(relevance_total):\n",
    "    cnt = 0\n",
    "\n",
    "    for line in relevance_total:\n",
    "        if True in line:\n",
    "            cnt = cnt + 1\n",
    "\n",
    "    return cnt / len(relevance_total)"
   ]
  },
  {
   "cell_type": "code",
   "execution_count": 54,
   "metadata": {},
   "outputs": [],
   "source": [
    "def mrr(relevance_total):\n",
    "    total_score = 0.0\n",
    "\n",
    "    for line in relevance_total:\n",
    "        for rank in range(len(line)):\n",
    "            if line[rank] == True:\n",
    "                total_score = total_score + 1 / (rank + 1)\n",
    "\n",
    "    return total_score / len(relevance_total)"
   ]
  },
  {
   "cell_type": "code",
   "execution_count": 82,
   "metadata": {},
   "outputs": [
    {
     "data": {
      "text/plain": [
       "'Answer 5 : the hit rate to vector search engine : 0.94 '"
      ]
     },
     "execution_count": 82,
     "metadata": {},
     "output_type": "execute_result"
    }
   ],
   "source": [
    "f'Answer 5 : the hit rate to vector search engine : {hit_rate(relevance_total):.2f} '"
   ]
  },
  {
   "cell_type": "markdown",
   "metadata": {},
   "source": [
    "# Q5. Indexing with Elasticsearch\n",
    "\n",
    "Now let's index these documents with elasticsearch\n",
    "\n",
    "Create the index with the same settings as in the module (but change the dimensions)\n",
    "Index the embeddings (note: you've already computed them)\n",
    "After indexing, let's perform the search of the same query from Q1.\n",
    "\n",
    "What's the ID of the document with the highest score?"
   ]
  },
  {
   "cell_type": "markdown",
   "metadata": {},
   "source": []
  },
  {
   "cell_type": "code",
   "execution_count": null,
   "metadata": {},
   "outputs": [],
   "source": [
    "for doc in tqdm(filtered_documents):\n",
    "    question = doc['question']\n",
    "    text = doc['text']\n",
    "    qt = question + ' ' + text\n",
    "\n",
    "    doc['question_vector'] = model.encode(question)\n",
    "    doc['text_vector'] = model.encode(text)\n",
    "    doc['question_text_vector'] = model.encode(qt)"
   ]
  },
  {
   "cell_type": "code",
   "execution_count": 144,
   "metadata": {},
   "outputs": [
    {
     "data": {
      "text/plain": [
       "ObjectApiResponse({'acknowledged': True, 'shards_acknowledged': True, 'index': 'course-questions'})"
      ]
     },
     "execution_count": 144,
     "metadata": {},
     "output_type": "execute_result"
    }
   ],
   "source": [
    "from elasticsearch import Elasticsearch\n",
    "\n",
    "es_client = Elasticsearch('http://localhost:9200') \n",
    "\n",
    "index_settings = {\n",
    "    \"settings\": {\n",
    "        \"number_of_shards\": 1,\n",
    "        \"number_of_replicas\": 0\n",
    "    },\n",
    "    \"mappings\": {\n",
    "        \"properties\": {\n",
    "            \"text\": {\"type\": \"text\"},\n",
    "            \"section\": {\"type\": \"text\"},\n",
    "            \"question\": {\"type\": \"text\"},\n",
    "            \"course\": {\"type\": \"keyword\"},\n",
    "            \"id\": {\"type\": \"keyword\"},\n",
    "            \"question_vector\": {\n",
    "                \"type\": \"dense_vector\",\n",
    "                \"dims\": 768,\n",
    "                \"index\": True,\n",
    "                \"similarity\": \"cosine\"\n",
    "            },\n",
    "            \"text_vector\": {\n",
    "                \"type\": \"dense_vector\",\n",
    "                \"dims\": 768,\n",
    "                \"index\": True,\n",
    "                \"similarity\": \"cosine\"\n",
    "            },\n",
    "            \"question_text_vector\": {\n",
    "                \"type\": \"dense_vector\",\n",
    "                \"dims\": 768,\n",
    "                \"index\": True,\n",
    "                \"similarity\": \"cosine\"\n",
    "            },\n",
    "        }\n",
    "    }\n",
    "}\n",
    "\n",
    "index_name = \"course-questions\"\n",
    "\n",
    "es_client.indices.delete(index=index_name, ignore_unavailable=True)\n",
    "es_client.indices.create(index=index_name, body=index_settings)"
   ]
  },
  {
   "cell_type": "code",
   "execution_count": 103,
   "metadata": {},
   "outputs": [
    {
     "data": {
      "text/plain": [
       "{'text': 'Machine Learning Zoomcamp FAQ\\nThe purpose of this document is to capture frequently asked technical questions.\\nWe did this for our data engineering course and it worked quite well. Check this document for inspiration on how to structure your questions and answers:\\nData Engineering Zoomcamp FAQ\\nIn the course GitHub repository there’s a link. Here it is: https://airtable.com/shryxwLd0COOEaqXo\\nwork',\n",
       " 'section': 'General course-related questions',\n",
       " 'question': 'How do I sign up?',\n",
       " 'course': 'machine-learning-zoomcamp',\n",
       " 'id': '0227b872'}"
      ]
     },
     "execution_count": 103,
     "metadata": {},
     "output_type": "execute_result"
    }
   ],
   "source": [
    "filtered_documents[0]"
   ]
  },
  {
   "cell_type": "code",
   "execution_count": 104,
   "metadata": {},
   "outputs": [
    {
     "data": {
      "application/vnd.jupyter.widget-view+json": {
       "model_id": "ba18b9a81f6249eaa74c4118c4c4abae",
       "version_major": 2,
       "version_minor": 0
      },
      "text/plain": [
       "  0%|          | 0/375 [00:00<?, ?it/s]"
      ]
     },
     "metadata": {},
     "output_type": "display_data"
    }
   ],
   "source": [
    "for doc in tqdm(filtered_documents):\n",
    "    question = doc['question']\n",
    "    text = doc['text']\n",
    "    qt = question + ' ' + text\n",
    "\n",
    "    doc['question_vector'] = model.encode(question)\n",
    "    doc['text_vector'] = model.encode(text)\n",
    "    doc['question_text_vector'] = model.encode(qt)"
   ]
  },
  {
   "cell_type": "code",
   "execution_count": 136,
   "metadata": {},
   "outputs": [
    {
     "data": {
      "text/plain": [
       "{'text': 'Machine Learning Zoomcamp FAQ\\nThe purpose of this document is to capture frequently asked technical questions.\\nWe did this for our data engineering course and it worked quite well. Check this document for inspiration on how to structure your questions and answers:\\nData Engineering Zoomcamp FAQ\\nIn the course GitHub repository there’s a link. Here it is: https://airtable.com/shryxwLd0COOEaqXo\\nwork',\n",
       " 'section': 'General course-related questions',\n",
       " 'question': 'How do I sign up?',\n",
       " 'course': 'machine-learning-zoomcamp',\n",
       " 'id': '0227b872',\n",
       " 'question_vector': array([ 8.70802775e-02,  5.98304458e-02,  4.62658554e-02, -8.17991793e-02,\n",
       "         4.93381433e-02,  6.70092404e-02,  5.20505011e-02, -3.99585254e-03,\n",
       "         2.49936450e-02, -1.05812671e-02, -2.35183607e-03, -3.07780523e-02,\n",
       "         8.50448981e-02, -3.35008241e-02, -6.30877493e-03, -3.81490514e-02,\n",
       "         1.95373781e-02,  1.93471014e-02,  1.81184728e-02, -3.73531282e-02,\n",
       "        -1.95183922e-02,  9.90941562e-03, -1.98407914e-03,  1.07108345e-02,\n",
       "         3.84843349e-02,  1.44675756e-02,  1.78855583e-02,  6.32836903e-03,\n",
       "         3.50506678e-02, -3.67645063e-02,  1.76412743e-02, -1.20080439e-02,\n",
       "         1.59992576e-02, -1.58903899e-03,  3.32525894e-02, -4.17819060e-02,\n",
       "        -3.58939730e-02, -7.28507247e-03,  2.76707169e-02, -2.10283604e-02,\n",
       "         1.95878949e-02,  2.02007852e-02,  4.42553237e-02, -8.25183243e-02,\n",
       "         4.97124530e-02, -4.98544388e-02,  4.16603312e-03, -6.07516877e-02,\n",
       "         2.62201447e-02,  5.03269397e-03,  9.59341507e-03, -3.34805697e-02,\n",
       "        -2.03158595e-02, -8.25883634e-03,  3.54897007e-02, -1.46898758e-02,\n",
       "        -9.23246797e-03, -2.71763615e-02, -5.84521852e-02,  4.83574793e-02,\n",
       "         1.01479776e-02,  4.11047190e-02,  7.56502151e-03, -3.57701501e-05,\n",
       "        -4.26468328e-02,  1.12401294e-02,  5.18288240e-02, -1.62688538e-03,\n",
       "        -3.95514391e-04, -1.60425771e-02,  3.82914543e-02, -2.04210803e-02,\n",
       "        -2.19978560e-02, -1.00972131e-01,  8.23596772e-03,  4.06734124e-02,\n",
       "        -2.42702700e-02,  8.21415782e-02,  5.16978502e-02,  3.25115882e-02,\n",
       "         4.10151556e-02, -3.15860403e-03,  4.46419567e-02,  4.77466285e-02,\n",
       "         3.35419625e-02,  9.27508250e-03, -6.77029463e-03, -5.14788255e-02,\n",
       "         4.47446369e-02, -2.30419636e-03, -8.55957344e-03, -2.47552525e-02,\n",
       "        -2.57657301e-02, -4.69638687e-03,  5.69485361e-04, -9.01088640e-02,\n",
       "        -1.10541098e-03,  3.23450216e-03,  2.02641799e-03,  8.93849786e-03,\n",
       "        -6.60273805e-02,  1.62397698e-02,  2.98870262e-02, -3.44877574e-03,\n",
       "        -1.52867865e-02, -1.15148677e-03, -5.21426536e-02, -1.00047812e-02,\n",
       "        -3.74489129e-02,  1.04487138e-02,  1.46122659e-02, -3.23583595e-02,\n",
       "        -2.25288831e-02,  2.11963467e-02,  9.60049126e-03,  4.31365296e-02,\n",
       "         2.95627564e-02, -3.94041166e-02, -3.08419317e-02,  3.43799144e-02,\n",
       "        -4.68121693e-02,  1.93808731e-02, -2.75954343e-02, -4.59606480e-03,\n",
       "        -7.05474056e-03,  5.16317822e-02,  2.92339232e-02, -4.30471118e-04,\n",
       "        -4.35341559e-02, -2.02497374e-02, -3.85314822e-02,  2.01222859e-02,\n",
       "         5.69561087e-02,  4.32400815e-02,  2.03944128e-02,  6.12277016e-02,\n",
       "        -1.94237381e-02, -3.60939428e-02, -2.95778401e-02,  7.55535113e-03,\n",
       "         5.47715090e-02,  4.17892961e-03, -3.23445424e-02, -8.70552957e-02,\n",
       "        -2.32796520e-02,  3.86216007e-02,  2.80430131e-02, -3.84249464e-02,\n",
       "        -3.51220672e-03, -2.50220182e-03,  1.27626471e-02, -3.12405992e-02,\n",
       "         3.47318128e-02, -2.62545329e-02, -6.91881329e-02, -1.25473728e-02,\n",
       "         2.88694594e-02,  1.36279585e-02,  7.56111741e-02,  1.06749702e-02,\n",
       "        -2.74906377e-03, -4.15107375e-03,  2.31169164e-02,  4.08569798e-02,\n",
       "         2.40717903e-02,  7.51859844e-02, -4.42242064e-02, -2.21296623e-02,\n",
       "         3.88501883e-02, -7.03992546e-02,  2.39692852e-02, -9.35093239e-02,\n",
       "         1.81460753e-02,  3.87608334e-02,  2.08167676e-02, -1.83704495e-02,\n",
       "         3.47918123e-02,  9.23404749e-03, -4.24350984e-03, -8.34704936e-03,\n",
       "        -9.29200500e-02, -1.06964484e-02,  2.30493303e-02,  5.82842492e-02,\n",
       "         2.01787241e-02, -1.93024967e-02,  2.44356189e-02,  1.85181648e-02,\n",
       "         3.05871293e-03,  2.20255814e-02,  1.18626282e-02,  2.77229380e-02,\n",
       "         5.11281304e-02, -2.89662033e-02,  3.78153734e-02, -3.79341878e-02,\n",
       "        -2.97175348e-02,  5.01002278e-03, -3.02496348e-02, -1.33483810e-02,\n",
       "        -3.52379307e-02,  2.45233960e-02,  9.47463326e-03, -1.32964812e-02,\n",
       "        -7.37986490e-02,  4.22096625e-02,  2.84170378e-02,  8.89250450e-03,\n",
       "         2.12190785e-02, -6.19694591e-02, -6.38337061e-02,  3.07227839e-02,\n",
       "        -1.30053526e-02,  3.64630669e-02, -1.10693527e-02,  1.56922340e-02,\n",
       "        -9.48437303e-03, -6.22122027e-02,  1.61020504e-03,  2.79853661e-02,\n",
       "         3.40696461e-02,  3.56074274e-02, -3.56078073e-02, -2.46104226e-02,\n",
       "        -2.21272409e-02, -1.25012016e-02, -4.55179289e-02,  6.75416961e-02,\n",
       "        -2.36764420e-02, -8.11439827e-02, -1.17957834e-02,  9.13686026e-03,\n",
       "         5.68337739e-02, -1.64414328e-02, -5.91297867e-03, -5.20770214e-02,\n",
       "         9.62902512e-03, -1.99338924e-02,  1.48731610e-03, -9.29189846e-04,\n",
       "         5.65507486e-02, -1.93160158e-02, -1.43361064e-02, -2.70035975e-02,\n",
       "         2.27046851e-03,  5.56255355e-02,  1.04014389e-02,  1.03112757e-02,\n",
       "         2.62240525e-02,  1.89206209e-02,  3.67159843e-02, -6.65115044e-02,\n",
       "         1.11996336e-03, -4.02691215e-03, -4.19268720e-02, -1.98105350e-02,\n",
       "         2.76801959e-02, -1.90580469e-02,  1.41965775e-02, -3.54123227e-02,\n",
       "         2.13353150e-02, -2.31489912e-02, -1.82303544e-02,  3.05177141e-02,\n",
       "         3.47676128e-02,  5.37260249e-02, -2.56120693e-02,  4.01429832e-02,\n",
       "        -3.18804495e-02,  4.13107798e-02,  5.80995809e-03, -1.34970937e-02,\n",
       "         2.64270343e-02, -3.86918918e-03, -6.76622987e-03, -3.43644880e-02,\n",
       "         4.60753329e-02, -1.64379142e-02,  1.83466710e-02,  2.41672224e-03,\n",
       "        -1.35573866e-02, -8.08777940e-03, -2.21831314e-02, -4.32743616e-02,\n",
       "        -2.54946277e-02,  1.25626745e-02,  1.79136805e-02, -3.46484333e-02,\n",
       "        -1.28557822e-02, -4.62694019e-02,  3.80026102e-02,  8.31775814e-02,\n",
       "         3.29059437e-02,  1.32290246e-02,  5.86556830e-02, -3.42538320e-02,\n",
       "         4.16765511e-02,  1.75094958e-02, -3.33167203e-02,  3.35466973e-02,\n",
       "         7.10362270e-02, -2.40205675e-02,  2.72529740e-02, -1.24648865e-02,\n",
       "         6.51988611e-02, -1.47180343e-02, -4.39531729e-02, -9.38269570e-02,\n",
       "        -2.67575990e-04, -8.26621279e-02, -3.48438285e-02, -5.02705909e-02,\n",
       "         1.96013637e-02, -3.97293121e-02,  2.22892594e-02, -5.51629020e-03,\n",
       "        -3.75246815e-02,  1.89150032e-03,  1.51451509e-02, -2.83264592e-02,\n",
       "        -6.26254827e-02, -5.82070537e-02,  2.93983929e-02,  6.38645738e-02,\n",
       "         5.19132912e-02,  1.43162562e-02, -3.16225104e-02,  4.17457661e-03,\n",
       "        -5.85780144e-02,  1.15949828e-02,  1.26859983e-02,  7.15301037e-02,\n",
       "         6.47988841e-02,  4.82777357e-02,  7.57617934e-04,  3.61675629e-03,\n",
       "         3.78079861e-02,  5.49490117e-02,  6.51762076e-03,  1.43593531e-02,\n",
       "         6.36864454e-02,  9.98783391e-03, -3.43473740e-02,  2.57171970e-03,\n",
       "         1.11475438e-02, -3.03036105e-02, -9.44697391e-03, -9.69760790e-02,\n",
       "        -1.13039732e-03, -3.02913040e-02,  2.65027992e-02,  4.19649202e-03,\n",
       "         6.85105100e-02, -5.92997856e-02,  2.56386567e-02, -6.52193325e-03,\n",
       "        -5.19728661e-02,  1.43163465e-02,  4.25555445e-02,  4.35074419e-02,\n",
       "         1.03643890e-02,  3.87926139e-02, -3.88086289e-02, -3.85832936e-02,\n",
       "        -2.47988254e-02,  3.85782719e-02, -2.81403754e-02,  5.37510663e-02,\n",
       "         6.64100703e-03, -3.55417095e-02,  6.58559278e-02, -9.23101678e-02,\n",
       "        -6.89863053e-04, -3.16549428e-02, -4.43790760e-03, -1.10774804e-02,\n",
       "         1.82568543e-02,  4.39067855e-02,  1.99364163e-02,  6.76043751e-03,\n",
       "        -3.49057317e-02,  4.13651131e-02, -1.57522596e-02, -3.20008514e-03,\n",
       "        -4.50832397e-03,  1.69690680e-02,  2.54300442e-02,  4.10567597e-02,\n",
       "         4.55351733e-03, -8.20908695e-03,  8.72275326e-03,  1.20095285e-02,\n",
       "        -1.74093116e-02, -1.42513495e-02, -4.10461426e-02, -3.70551657e-04,\n",
       "        -3.14458907e-02, -1.82229485e-02,  2.00132094e-02,  3.20543498e-02,\n",
       "         3.72089557e-02,  2.04380043e-03, -5.84067404e-02, -6.54299045e-04,\n",
       "         2.06295345e-02, -4.40502614e-02, -2.24326178e-02,  1.66441333e-02,\n",
       "         1.05583984e-02,  7.96640292e-02,  4.80361246e-02, -1.36604859e-02,\n",
       "        -1.71371084e-02,  3.45633621e-03, -3.05474233e-02, -2.36243233e-02,\n",
       "        -1.83441862e-02, -3.53198405e-03, -5.65857664e-02, -5.41364811e-02,\n",
       "        -7.56414682e-02,  6.49416000e-02, -6.41308948e-02,  3.93563360e-02,\n",
       "        -4.82392684e-02,  1.87011417e-02, -6.19435050e-02, -2.59307511e-02,\n",
       "         5.37659153e-02, -2.19400899e-04,  3.47940400e-02, -2.98211370e-02,\n",
       "         3.18191014e-02,  2.30970401e-02, -2.93778386e-02, -1.47967786e-02,\n",
       "         8.60262569e-03, -1.18335085e-02, -3.80118191e-02,  3.67461494e-03,\n",
       "        -2.90013496e-02, -2.42578164e-02,  5.04901521e-02,  2.81808693e-02,\n",
       "         7.41418228e-02, -3.53924348e-03,  9.01723001e-03,  5.36645018e-02,\n",
       "         3.94205526e-02, -1.06408680e-02,  7.06583038e-02, -1.87121648e-02,\n",
       "        -2.43251845e-02, -8.00366793e-03, -2.46675331e-02, -3.42134051e-02,\n",
       "         1.01196794e-02,  3.83009166e-02,  6.59636641e-03, -7.37773776e-02,\n",
       "        -1.87709425e-02, -3.93029256e-03, -8.76472332e-03,  3.89821865e-02,\n",
       "         5.93413599e-02, -3.41268256e-02, -5.99578023e-02,  2.51072235e-02,\n",
       "        -1.39033580e-02, -4.58609015e-02,  1.11276638e-02, -5.80927590e-03,\n",
       "         8.64829030e-03, -1.93029046e-02, -4.97774146e-02,  6.66806800e-03,\n",
       "        -5.08541986e-02, -1.05079012e-02,  5.29871788e-03,  4.13953476e-02,\n",
       "        -9.49363515e-04, -9.78058577e-03,  6.93674386e-03, -3.85583527e-02,\n",
       "        -1.09832163e-03,  1.44261578e-02,  2.75524333e-02, -6.79829419e-02,\n",
       "        -2.68069841e-02, -1.41209718e-02, -8.45053699e-03, -4.13218960e-02,\n",
       "        -3.37474868e-02, -2.57930644e-02,  5.79553936e-03, -1.57805718e-02,\n",
       "        -9.20541678e-03, -2.64264755e-02,  2.18101824e-03, -3.55894933e-03,\n",
       "         2.34224461e-02, -5.73876835e-02, -1.74528714e-02,  3.72435199e-03,\n",
       "         1.56020168e-02,  2.77279969e-02,  1.77571103e-02,  4.65037562e-02,\n",
       "        -1.57825593e-02,  2.48613097e-02, -1.02951802e-01, -3.69931571e-02,\n",
       "         6.01017522e-03, -1.16299428e-02,  5.14779538e-02,  2.93547008e-03,\n",
       "         4.10600342e-02, -4.63935286e-02,  4.88298479e-03, -2.90226731e-02,\n",
       "        -3.04031819e-02, -3.73103283e-02, -4.35509421e-02, -3.12378653e-03,\n",
       "        -7.15970770e-02,  2.77310051e-02, -1.26565108e-02,  3.24672200e-02,\n",
       "        -6.25956897e-03,  1.83319133e-02, -3.59399803e-02,  3.35561261e-02,\n",
       "        -4.14350294e-02,  5.73967490e-03,  5.08012529e-03,  2.92742122e-02,\n",
       "        -6.75258040e-02, -4.25230525e-02, -5.38186915e-03, -2.19025631e-02,\n",
       "         2.38593239e-02, -3.33151780e-02, -2.78077349e-02,  8.18556920e-03,\n",
       "        -6.95451722e-02, -2.35881587e-03, -2.80637797e-02,  2.01839972e-02,\n",
       "        -5.81951737e-02,  2.23695450e-02, -4.93154824e-02,  5.45185655e-02,\n",
       "         1.83751583e-02,  4.02017422e-02, -7.27908267e-03,  2.39895787e-02,\n",
       "        -3.29205068e-03,  2.32356358e-02, -1.33452751e-02,  6.43631741e-02,\n",
       "         2.35524829e-02, -1.61193106e-02, -4.16099541e-02, -1.13526136e-02,\n",
       "        -2.83497293e-02,  5.87236211e-02, -1.32735763e-02,  1.70352645e-02,\n",
       "         4.27583307e-02, -1.46099050e-02, -4.32567857e-02,  8.63893609e-03,\n",
       "         8.84968601e-03,  1.20420447e-02, -1.96424723e-02,  5.57239205e-02,\n",
       "         9.59326699e-03,  3.21145244e-02, -2.63083912e-03, -2.89345291e-02,\n",
       "         1.94005258e-02,  4.24370244e-02, -5.20646274e-02, -6.57953247e-02,\n",
       "         3.32742594e-02, -4.40250598e-02,  1.47150783e-02,  1.95760187e-02,\n",
       "         2.58430354e-02,  2.69169528e-02,  2.32513510e-02, -2.28529260e-03,\n",
       "         5.27845882e-02, -2.90677883e-02, -2.26092227e-02,  7.03100637e-02,\n",
       "         5.54752722e-03,  4.31367047e-02, -2.80137118e-02,  3.39200273e-02,\n",
       "         1.52024729e-02,  3.15244794e-02, -1.42835910e-02,  5.09444699e-02,\n",
       "         5.60076833e-02, -1.65185686e-02,  6.34869561e-03,  4.57393788e-02,\n",
       "         5.47682941e-02,  2.49260627e-02, -3.25059928e-02, -1.25160869e-02,\n",
       "         2.10324936e-02,  5.92040680e-02, -3.16314623e-02, -1.44711894e-03,\n",
       "        -5.89197734e-03,  2.25132629e-02, -1.66705754e-02, -4.33989950e-02,\n",
       "         1.98726002e-02, -6.82303682e-03, -2.88477316e-02, -1.69009285e-03,\n",
       "        -2.53484324e-02, -7.54695907e-02, -2.77119372e-02, -3.66236158e-02,\n",
       "         4.17361371e-02, -1.89422686e-02,  3.99931855e-02, -1.20679261e-02,\n",
       "        -1.78725794e-02, -1.12346718e-02, -4.85221669e-03,  1.25932293e-02,\n",
       "         5.03381640e-02,  1.57146044e-02,  5.02856448e-04, -2.75440980e-02,\n",
       "        -9.27352067e-03, -2.61986740e-02,  2.21601725e-02, -3.78095098e-02,\n",
       "        -5.33081293e-02, -7.35205412e-02, -2.52723172e-02,  2.50223931e-02,\n",
       "        -5.70625626e-02,  1.08698318e-02,  3.64083312e-02,  8.14328045e-02,\n",
       "        -8.52838857e-04,  4.58938628e-02,  1.47046149e-02,  1.16642537e-02,\n",
       "         2.14800127e-02, -4.22035716e-02,  2.08471958e-02, -1.11806272e-02,\n",
       "        -3.49234492e-02,  8.31275771e-04, -1.73125397e-02, -1.03639387e-01,\n",
       "        -4.32283916e-02, -1.01070097e-02, -1.64133310e-02,  2.60116942e-02,\n",
       "         2.06406619e-02, -2.72303633e-02,  2.74201222e-02,  1.64424032e-02,\n",
       "        -1.89347360e-02,  1.82611402e-02,  6.86810091e-02, -1.48090227e-02,\n",
       "         1.73128322e-02,  5.37731908e-02, -2.28171106e-02,  7.35896006e-02,\n",
       "         5.91700412e-02,  6.53602928e-02, -9.15969536e-03, -4.25575534e-03,\n",
       "        -1.32802473e-02, -1.57667138e-02, -8.79698060e-03, -5.76401576e-02,\n",
       "        -3.80940340e-03,  2.15674248e-02, -3.71255204e-02,  3.41612026e-02,\n",
       "         3.71550806e-02, -1.05055235e-01,  1.92533992e-02, -1.00995880e-02,\n",
       "         2.58813798e-02, -3.27941924e-02, -9.11489595e-03, -1.57391094e-02,\n",
       "         6.93458766e-02, -3.76550183e-02, -1.97034385e-02, -6.80407463e-03,\n",
       "         2.66726147e-02, -1.29855759e-02,  2.20796112e-02, -2.15736199e-02,\n",
       "        -1.54914120e-02,  3.71024758e-02,  1.56810868e-03, -3.79436947e-02,\n",
       "        -2.96057342e-03, -2.51941662e-02,  9.62057989e-03,  4.03162725e-02,\n",
       "         5.69317937e-02,  9.53221414e-03,  9.02643148e-03,  7.67744482e-02,\n",
       "         1.83212981e-02,  6.06555231e-02, -1.32104587e-02,  1.46884946e-02,\n",
       "         8.53557140e-02,  3.88746746e-02, -2.54933406e-02,  3.68118919e-02,\n",
       "         3.26373428e-02,  3.18692364e-02,  1.52745731e-02,  7.57855410e-03,\n",
       "         2.87188496e-02,  2.30184253e-02, -5.81614152e-02, -2.54991762e-02,\n",
       "         7.17054261e-03, -4.55928743e-02,  1.38215618e-02, -1.09135173e-02,\n",
       "         2.30497587e-02,  2.05928553e-02,  6.04061270e-03, -8.66549741e-03,\n",
       "         3.08989864e-02, -3.22575979e-02,  4.18312848e-02, -1.73801265e-03,\n",
       "        -4.37453203e-02,  5.67845674e-03,  9.50105768e-03,  3.40455100e-02,\n",
       "        -4.43437174e-02, -8.39940384e-02, -2.35574376e-02, -5.76308034e-02,\n",
       "        -7.20056240e-03, -4.01667058e-02,  1.08120166e-01, -9.59161483e-03,\n",
       "        -6.35454953e-02, -6.35170639e-02, -3.22387815e-02,  5.53783514e-02,\n",
       "        -6.25565946e-02,  1.18530672e-02, -3.55262607e-02,  5.43173552e-02],\n",
       "       dtype=float32),\n",
       " 'text_vector': array([ 1.94306467e-02, -3.65403784e-03,  4.04272974e-02,  6.81330264e-02,\n",
       "         7.54619241e-02, -6.53878972e-02, -7.44077563e-02,  4.88243066e-02,\n",
       "         1.25474716e-02, -3.29860719e-03, -1.33466655e-02, -3.61684300e-02,\n",
       "         2.87902486e-02, -6.28864616e-02,  2.43467502e-02, -4.16539330e-03,\n",
       "         1.55153414e-02, -9.21595246e-02,  1.82583381e-03,  3.28045152e-02,\n",
       "         4.60629351e-02, -3.13377827e-02,  2.05839314e-02,  2.48071551e-02,\n",
       "        -2.86337696e-02,  4.47742920e-03, -4.25290316e-03,  1.59647353e-02,\n",
       "        -3.67881684e-03, -2.17898171e-02, -3.21023948e-02,  3.81501950e-02,\n",
       "         1.33389104e-02, -5.87553903e-03, -5.18017113e-02,  9.39236861e-03,\n",
       "        -5.48260985e-03,  4.38204559e-04,  1.90585777e-02, -1.33217173e-02,\n",
       "         2.67226193e-02,  1.32903853e-03, -1.90516282e-02, -1.55498004e-02,\n",
       "         1.32603319e-02, -2.74935998e-02, -3.06940489e-02, -2.66229119e-02,\n",
       "        -4.29591164e-02,  5.08186892e-02, -7.02737868e-02,  1.07137069e-01,\n",
       "        -1.15535036e-02, -3.84912454e-03,  2.38285726e-03,  6.62341267e-02,\n",
       "         2.47182827e-02, -2.51008458e-02,  1.07646026e-02,  2.36615892e-02,\n",
       "        -2.78233960e-02,  2.77103037e-02, -1.51071968e-02,  1.83581263e-02,\n",
       "        -4.33423184e-02, -7.69421607e-02, -3.89533788e-02, -7.22300494e-03,\n",
       "         2.88575143e-02, -3.63198183e-02,  1.94385480e-02,  3.52905616e-02,\n",
       "        -1.94323827e-02,  3.85818863e-03,  5.50586497e-03,  1.24537488e-02,\n",
       "         3.13690566e-02, -1.62993520e-02, -1.98821928e-02, -1.66181978e-02,\n",
       "        -7.24568823e-03, -4.42299619e-02,  1.45384893e-02,  1.96388923e-03,\n",
       "         5.08153252e-02, -2.20849253e-02, -1.93344094e-02, -1.17538935e-02,\n",
       "        -2.68878154e-02,  1.48200681e-02,  2.50323378e-02,  1.63482688e-02,\n",
       "        -3.97169404e-02,  6.99261669e-03,  3.41187268e-02, -7.00766668e-02,\n",
       "        -4.13333885e-02, -3.88807394e-02, -1.83628798e-02,  7.66202435e-02,\n",
       "         3.40393409e-02, -1.11961253e-02, -6.31691073e-04, -2.78114364e-03,\n",
       "        -7.03987153e-03,  5.37925214e-02,  2.80341022e-02, -1.40132457e-02,\n",
       "        -1.62565596e-02,  3.80193815e-02, -4.73601259e-02, -1.32621732e-02,\n",
       "         1.51556348e-02, -6.14236146e-02,  1.45303160e-02, -1.98908094e-02,\n",
       "         3.93778123e-02,  3.07928026e-02, -5.61881205e-03,  1.58161055e-02,\n",
       "        -7.58038759e-02,  5.78420274e-02,  1.25391735e-03,  1.29550183e-02,\n",
       "         1.82677675e-02,  2.85534058e-02,  3.01081128e-02,  3.16716544e-02,\n",
       "         3.88597883e-02, -6.45867959e-02, -3.44995083e-03, -2.19930913e-02,\n",
       "         8.98800138e-03,  6.58318808e-04,  3.72023718e-03,  5.22187985e-02,\n",
       "        -9.62838437e-03, -3.91368531e-02, -1.93564147e-02,  5.24144135e-02,\n",
       "         4.92760576e-02, -2.19861362e-02,  7.45954132e-03,  2.79449392e-04,\n",
       "        -5.29375002e-02, -1.60983782e-02, -4.93177846e-02,  2.27681710e-03,\n",
       "        -4.34652381e-02, -2.70117670e-02,  2.29618233e-02,  4.24054228e-02,\n",
       "        -1.96506344e-02, -3.47648226e-02,  5.37354015e-02,  1.11235611e-01,\n",
       "        -1.40142394e-02, -1.20215155e-02,  2.64172610e-02, -2.02293750e-02,\n",
       "         5.38081676e-02, -5.59429452e-02, -4.33032103e-02,  5.52845895e-02,\n",
       "        -2.47136746e-02, -1.63074490e-02, -2.82997061e-02,  5.50513454e-02,\n",
       "         7.72215612e-03,  1.36441030e-02,  3.31993736e-02, -1.19299423e-02,\n",
       "        -2.18308019e-03, -2.15261313e-03, -2.47551203e-02,  1.33745959e-02,\n",
       "         2.61533745e-02,  4.15192433e-02,  3.59752662e-02,  3.66096497e-02,\n",
       "        -4.18090932e-02, -7.60568380e-02,  2.58420371e-02, -6.84912279e-02,\n",
       "         3.84322442e-02, -8.36536381e-03,  8.07957649e-02,  2.71144640e-02,\n",
       "        -9.09253731e-02,  2.51634698e-02, -1.58705004e-02, -1.30454982e-02,\n",
       "        -1.99927706e-02,  5.40945819e-03,  5.20433821e-02, -3.52950171e-02,\n",
       "        -2.39462988e-03, -7.35411886e-03,  1.21049602e-02,  2.39960626e-02,\n",
       "         4.39364389e-02,  5.81139401e-02,  1.00028282e-02,  3.39647196e-03,\n",
       "         1.08556468e-02, -3.58995721e-02, -5.57783172e-02, -5.21035232e-02,\n",
       "        -3.81512120e-02, -2.94710118e-02, -2.74803322e-02,  1.07901767e-02,\n",
       "        -4.77665104e-03, -2.54545249e-02,  1.27774933e-02, -3.30599919e-02,\n",
       "        -5.23384027e-02,  4.57100719e-02,  1.46015193e-02,  5.52704977e-03,\n",
       "         2.09298152e-02, -3.81364487e-03, -1.68678928e-02,  6.74713403e-03,\n",
       "        -2.33150739e-02, -2.97139995e-02, -2.03314256e-02,  2.27120090e-02,\n",
       "         4.60876860e-02, -1.09235719e-01,  1.32338814e-02, -3.15146632e-02,\n",
       "         1.15745459e-02, -9.08507034e-02,  6.09657615e-02,  3.13046686e-02,\n",
       "         1.58360414e-02,  2.14962810e-02,  1.18276943e-02, -2.35967413e-02,\n",
       "        -9.91281960e-03, -2.61638947e-02, -2.75309961e-02, -1.37975411e-02,\n",
       "         6.94419295e-02, -1.92950841e-03, -9.50852502e-03, -1.99883562e-02,\n",
       "        -1.13562762e-03, -5.00412993e-02,  2.29223203e-02,  3.64173390e-02,\n",
       "        -4.18215670e-04, -2.21474282e-03, -3.78053896e-02,  4.90420274e-02,\n",
       "         5.11539616e-02, -4.30563428e-02,  2.57980600e-02,  8.40048790e-02,\n",
       "         6.08474761e-03,  2.08358839e-02, -1.19709512e-02, -2.35642754e-02,\n",
       "         5.97321428e-03, -9.81497765e-02, -2.39891931e-02, -7.65728205e-02,\n",
       "         5.48167974e-02,  4.08210494e-02, -3.05480678e-02, -1.75546147e-02,\n",
       "         6.69792667e-02,  1.88155957e-02,  2.48852372e-02, -5.74048012e-02,\n",
       "         3.52685526e-02,  9.19828948e-04,  4.08586580e-03,  3.49835716e-02,\n",
       "        -1.40396906e-02, -4.64449748e-02,  2.53746118e-02,  1.03511428e-02,\n",
       "         3.64561118e-02,  1.57913752e-02, -8.90653282e-02,  5.95500395e-02,\n",
       "        -2.52743755e-02, -4.84617017e-02,  2.73762979e-02,  3.80885229e-02,\n",
       "        -9.70903039e-03,  4.51517589e-02,  1.22891888e-02,  3.67728360e-02,\n",
       "        -1.82042029e-02,  8.25518556e-03, -8.97328034e-02,  2.42231470e-02,\n",
       "        -5.65123819e-02,  5.57193495e-02,  3.09131425e-02, -7.83974379e-02,\n",
       "        -8.85040872e-03,  1.60844103e-02, -1.14839012e-02, -5.17130233e-02,\n",
       "        -3.68859507e-02,  4.50752815e-03, -4.21333089e-02,  6.53564325e-03,\n",
       "        -6.21089041e-02, -4.73893471e-02,  2.54037399e-02,  2.35924479e-02,\n",
       "        -2.77884351e-03, -1.80888698e-02, -2.21880320e-02,  5.41181751e-02,\n",
       "        -7.32527375e-02,  4.80893888e-02,  5.14145494e-02,  5.55341691e-02,\n",
       "        -3.22966613e-02, -1.95084943e-03,  3.36738303e-02,  4.42564785e-02,\n",
       "         1.34921605e-02, -2.76375674e-02, -1.71903614e-02,  2.62890365e-02,\n",
       "         7.08727492e-03, -5.22383600e-02, -5.13879284e-02,  2.18082070e-02,\n",
       "         1.02802990e-02,  2.14918684e-02, -2.82668341e-02, -7.15028718e-02,\n",
       "        -2.15350632e-02,  4.39693630e-02,  1.63456530e-03,  3.37069924e-03,\n",
       "         5.23141995e-02,  3.78731079e-02,  4.97278869e-02, -4.90458272e-02,\n",
       "        -1.65990777e-02,  3.19508985e-02,  9.62292030e-03, -4.53381613e-02,\n",
       "         4.19965908e-02,  6.32720906e-03,  7.01274127e-02,  3.48722599e-02,\n",
       "        -8.41424800e-04, -2.62864549e-02, -1.23455739e-02, -2.71269903e-02,\n",
       "         2.18386389e-02, -6.16027042e-03, -4.91733328e-02, -4.09252495e-02,\n",
       "         6.41151592e-02,  4.97951545e-02,  1.50657259e-02, -4.74716872e-02,\n",
       "         3.40750478e-02, -2.41403021e-02, -7.20949098e-02, -8.88851583e-02,\n",
       "        -2.78877839e-02,  2.48052347e-02, -5.81909120e-02,  4.11440327e-04,\n",
       "        -3.11761331e-02, -5.07196970e-03,  1.83343571e-02,  3.78991757e-03,\n",
       "        -2.84321816e-03, -1.12739550e-02, -3.42050903e-02,  1.17127709e-02,\n",
       "         6.08903468e-02, -4.97489795e-02,  6.06743991e-02,  5.79266287e-02,\n",
       "        -6.05250075e-02, -2.71031149e-02,  4.62507550e-03,  4.53768484e-02,\n",
       "        -1.22629981e-02, -4.75324653e-02, -2.70440653e-02,  3.69664794e-03,\n",
       "        -2.93935966e-02, -7.26306513e-02,  2.31464617e-02, -1.30540393e-02,\n",
       "        -2.37738360e-02,  2.15872657e-02,  1.40216085e-03, -5.93922175e-02,\n",
       "         3.54882032e-02,  6.07726835e-02,  7.77555257e-03, -2.79751848e-02,\n",
       "        -4.55746092e-02, -4.85008396e-02,  3.76276188e-02,  1.91989969e-02,\n",
       "        -4.77523468e-02,  6.69022426e-02,  8.17378866e-04, -8.11451674e-03,\n",
       "         7.65618831e-02,  3.78528424e-03, -3.38517278e-02,  1.90130733e-02,\n",
       "        -3.62567343e-02,  1.90430526e-02, -3.05224936e-02, -7.17855338e-03,\n",
       "         7.80091295e-03, -3.68589163e-02,  4.38257046e-02, -6.04245290e-02,\n",
       "        -1.42065268e-02,  7.30545819e-02,  6.96476996e-02,  6.64357170e-02,\n",
       "         9.01052356e-03,  1.25076612e-02, -1.24010192e-02,  1.45919295e-02,\n",
       "         4.04754132e-02, -8.80673833e-05,  9.20115784e-03,  3.77960205e-02,\n",
       "         9.50388908e-02,  2.67820098e-02,  1.75413918e-02,  2.32916456e-02,\n",
       "         1.70645788e-02,  2.63664918e-03,  2.06368491e-02, -1.48415351e-02,\n",
       "         2.07706094e-02,  6.44687489e-02,  4.11790200e-02, -4.21001762e-02,\n",
       "         2.82062236e-02,  1.50247244e-02,  5.73091628e-03,  5.62192537e-02,\n",
       "         8.90296698e-03, -6.30838275e-02, -5.44699207e-02, -6.82823779e-03,\n",
       "        -3.68349552e-02,  6.68206858e-03,  4.37148241e-03, -1.15817627e-02,\n",
       "        -3.56252678e-02, -4.20504808e-02,  6.42990544e-02,  2.89902221e-02,\n",
       "         1.75038390e-02,  4.04041037e-02,  1.79374591e-03, -1.52626261e-02,\n",
       "         2.48060096e-02,  1.84430797e-02,  2.33382545e-03, -1.87328774e-02,\n",
       "        -3.09965834e-02, -3.45301069e-02, -1.25171924e-02,  6.93475129e-03,\n",
       "         1.32874437e-02, -6.06232285e-02, -3.86826657e-02, -2.09950190e-02,\n",
       "         6.60822242e-02,  1.15986671e-02,  7.32615311e-03,  4.25703973e-02,\n",
       "        -6.75466983e-03, -3.69876809e-02,  4.16488647e-02,  2.90515646e-02,\n",
       "        -6.38677506e-03,  2.30505485e-02, -2.27861502e-03,  5.19549139e-02,\n",
       "         2.58906111e-02,  3.15142493e-03, -3.53528932e-03,  2.81121824e-02,\n",
       "         3.74162458e-02,  6.38517812e-02, -8.88593611e-04,  2.42993142e-03,\n",
       "         5.86730801e-02,  2.75036916e-02,  3.44356964e-03,  4.29378124e-03,\n",
       "        -8.54879990e-02, -2.47843713e-02,  4.95944433e-02,  2.32295338e-02,\n",
       "         6.46608882e-03,  3.33148241e-02, -3.14602703e-02, -4.69516963e-02,\n",
       "        -2.69645583e-02, -2.32281368e-02, -2.54886188e-02,  2.75782552e-02,\n",
       "        -2.61094607e-03, -3.41482684e-02, -5.23734689e-02, -3.17358114e-02,\n",
       "        -2.47820206e-02, -1.50230378e-02, -3.39788687e-03,  2.30518207e-02,\n",
       "         2.38602199e-02,  7.35329092e-02,  7.30074523e-03, -6.16547130e-02,\n",
       "        -1.35125313e-02, -3.23561281e-02,  2.25666035e-02,  1.61295384e-02,\n",
       "        -3.58308516e-02,  3.69955786e-02,  4.03673621e-03,  1.24806538e-02,\n",
       "         6.15223348e-02,  5.20586446e-02, -2.44998112e-02,  2.09098624e-04,\n",
       "        -2.49562468e-02,  3.67898718e-02,  4.96088006e-02, -9.81270708e-03,\n",
       "         3.83904614e-02, -1.72933992e-02, -7.07197003e-03,  3.04695275e-02,\n",
       "         2.54106093e-02,  7.55970227e-03,  2.14876626e-02, -4.22401391e-02,\n",
       "         1.81699004e-02,  2.58323434e-03,  1.82276908e-02,  2.88302358e-02,\n",
       "        -7.30578378e-02,  4.72175963e-02,  9.35574435e-03,  6.42790040e-03,\n",
       "         2.47064456e-02, -7.07350671e-04, -3.73276025e-02, -2.82643661e-02,\n",
       "        -1.79499481e-02, -5.63818309e-03, -7.59392753e-02,  1.39039513e-02,\n",
       "         3.52805965e-02,  2.64520850e-02,  1.07890014e-02, -1.56938133e-03,\n",
       "        -1.07067088e-02, -5.11945644e-03,  2.85491999e-02,  4.09332477e-02,\n",
       "        -2.61308975e-03,  5.62554672e-02,  4.56588902e-02, -2.51615979e-02,\n",
       "        -1.59899928e-02, -7.92682264e-03,  1.78695433e-02, -2.89715845e-02,\n",
       "        -1.28896791e-03,  3.10830306e-02,  3.85488160e-02,  3.44253331e-03,\n",
       "         2.44931970e-02,  3.83142233e-02, -4.08679899e-03,  5.72710708e-02,\n",
       "         2.89805233e-02, -3.47197079e-03, -2.75209937e-02, -1.32895829e-02,\n",
       "        -6.65037781e-02, -1.36773717e-02,  3.25334035e-02,  1.35849265e-03,\n",
       "         8.80442467e-03,  3.93000431e-03,  1.23573886e-02,  4.89968993e-02,\n",
       "        -1.04477638e-02,  4.66229729e-02,  3.34811807e-02, -4.05946486e-02,\n",
       "         4.10727710e-02,  1.93054061e-02, -6.49342686e-02,  1.81066506e-02,\n",
       "         4.81786020e-02, -1.88430194e-02, -3.03573906e-02, -3.65079679e-02,\n",
       "        -2.62588840e-02,  3.50273848e-02, -4.02338207e-02, -1.90865621e-02,\n",
       "        -2.47323308e-02, -2.70179063e-02,  4.25260328e-02, -1.36804814e-02,\n",
       "        -2.20647864e-02,  2.55868789e-02,  4.70812246e-02, -3.38379331e-02,\n",
       "        -6.37892932e-02, -2.15374790e-02, -7.26793054e-03, -6.47407472e-02,\n",
       "         2.90831402e-02, -7.95455370e-03,  2.48009842e-02,  6.59703612e-02,\n",
       "        -4.17829379e-02,  7.31000453e-02, -3.81293446e-02, -3.80342305e-02,\n",
       "        -6.95485026e-02,  1.61877815e-02,  2.77476665e-02, -1.26060238e-02,\n",
       "        -2.46544089e-02,  2.97088884e-02,  5.24369106e-02,  6.43424736e-03,\n",
       "        -3.54464017e-02,  3.98543254e-02,  2.58416384e-02,  3.01291551e-02,\n",
       "        -1.60063878e-02, -1.33426972e-02,  4.71411459e-02, -3.44924703e-02,\n",
       "         1.08158886e-02, -6.06704317e-03,  1.93201229e-02,  2.70595811e-02,\n",
       "        -1.70456283e-02,  2.33921818e-02,  2.45042215e-03,  2.45746840e-02,\n",
       "         4.02014367e-02, -2.00504754e-02,  3.93853784e-02, -8.77989177e-03,\n",
       "        -1.86708162e-03, -6.90457178e-03,  2.46148966e-02, -2.03402042e-02,\n",
       "         5.82688637e-02,  2.33308803e-02, -8.65317211e-02,  3.64400856e-02,\n",
       "        -3.80806476e-02,  2.04058015e-03, -3.91206592e-02, -1.97286010e-02,\n",
       "        -4.29654568e-02, -4.16799672e-02,  6.32930472e-02,  5.30862287e-02,\n",
       "        -3.44623588e-02, -1.03274614e-01,  1.36294235e-02,  5.80756739e-03,\n",
       "         1.55173312e-03,  3.93340690e-03, -1.15404360e-03,  8.50781216e-04,\n",
       "        -2.53945980e-02, -3.25075374e-03, -5.12851737e-02, -5.44549339e-02,\n",
       "        -1.12732337e-03, -6.76408876e-03,  6.02449896e-03,  2.08522771e-02,\n",
       "        -4.97646779e-02,  1.54251978e-03, -3.57238599e-03,  5.93104325e-02,\n",
       "        -3.98916379e-02, -6.39656633e-02,  4.11956348e-02, -3.36744171e-03,\n",
       "         1.06916856e-02,  2.37899311e-02,  4.05087993e-02, -4.18793112e-02,\n",
       "        -4.62328456e-02,  1.76828057e-02,  5.38870580e-02,  3.79395224e-02,\n",
       "         3.34968232e-02, -2.10751463e-02,  3.56215537e-02,  6.74417391e-02,\n",
       "        -8.28717723e-02, -1.69525165e-02,  2.41007060e-02,  2.66998205e-02,\n",
       "        -2.29072664e-02, -1.15274393e-03,  1.81308873e-02, -1.44278177e-03,\n",
       "         1.53330853e-02,  4.18882109e-02, -1.85556635e-02, -5.57772303e-03,\n",
       "        -3.80830467e-02, -1.11812763e-02,  4.22288068e-02, -4.26097810e-02,\n",
       "        -2.97428831e-03,  2.55700406e-02, -4.57595438e-02, -9.01014137e-04,\n",
       "        -8.54115933e-03, -4.22612159e-03,  7.24020135e-03,  8.95015895e-03,\n",
       "        -6.04529493e-02,  9.01760533e-03,  4.12834389e-03,  2.68066470e-02,\n",
       "         1.00865802e-02,  1.32258106e-02,  1.54533992e-02, -1.35335084e-02,\n",
       "        -3.57120484e-02,  3.46390791e-02, -3.13110910e-02,  1.24555416e-02,\n",
       "         2.97180552e-04, -5.83777875e-02, -6.00483231e-02,  4.45585661e-02,\n",
       "         2.62446050e-02, -9.01901908e-03, -6.07048627e-03, -4.37322957e-03],\n",
       "       dtype=float32),\n",
       " 'question_text_vector': array([ 8.80590528e-02,  1.55935483e-02,  7.92558193e-02,  2.52757873e-02,\n",
       "         7.55765066e-02, -3.90596949e-02, -4.13813852e-02,  2.52918135e-02,\n",
       "         2.43241284e-02,  3.62585997e-03, -7.28285545e-03, -3.28751542e-02,\n",
       "         6.12956472e-02, -5.71101010e-02,  1.16774784e-02, -1.79442130e-02,\n",
       "         4.49206047e-02, -5.41605875e-02, -1.92261033e-03,  1.48329930e-02,\n",
       "         7.91360065e-03, -3.43127362e-02,  1.21480487e-02,  1.27185713e-02,\n",
       "        -1.60092711e-02,  7.12137856e-03,  1.58389509e-02, -3.27488902e-04,\n",
       "         3.01296543e-03, -4.58918400e-02, -1.34775438e-03,  2.01149546e-02,\n",
       "         2.33724471e-02, -4.28200746e-03, -3.09384037e-02,  1.94302748e-03,\n",
       "        -1.88219752e-02,  5.35160303e-03,  1.29352352e-02, -3.23957913e-02,\n",
       "         3.10556218e-02,  5.12981648e-03, -3.24394932e-04, -3.15541998e-02,\n",
       "         1.93377174e-02, -6.38601556e-02, -3.05381045e-02, -6.27884790e-02,\n",
       "        -1.74859781e-02,  3.52949575e-02, -2.98071913e-02,  7.45346099e-02,\n",
       "        -2.06183232e-02, -1.79156959e-02,  1.86262634e-02,  5.31014837e-02,\n",
       "         1.19287465e-02, -5.18544056e-02, -1.61922548e-03,  3.58705893e-02,\n",
       "        -6.52320497e-03,  4.53287326e-02, -1.06173949e-02,  1.02415644e-02,\n",
       "        -4.41201888e-02, -7.07985684e-02,  1.33665288e-02, -2.05062665e-02,\n",
       "         3.62042226e-02, -3.39450836e-02,  3.25139165e-02,  2.22205129e-02,\n",
       "        -3.24136913e-02, -3.93159091e-02,  2.75360711e-04,  2.43686568e-02,\n",
       "         1.57890059e-02,  2.50409115e-02,  1.70958682e-03, -2.63328431e-04,\n",
       "         4.40217033e-02, -5.46364971e-02,  2.34349463e-02,  2.99487058e-02,\n",
       "         1.41274724e-02, -2.91330498e-02, -6.47386396e-03, -3.54053676e-02,\n",
       "         1.71305165e-02,  2.90904641e-02,  1.46859018e-02,  8.54341406e-03,\n",
       "        -3.44416797e-02, -1.04836151e-02,  3.15485746e-02, -8.74644071e-02,\n",
       "        -2.11829543e-02, -5.05227298e-02, -7.52344867e-03,  4.42793556e-02,\n",
       "         3.77510227e-02, -1.24977960e-03,  6.45406265e-03, -1.53079126e-02,\n",
       "         1.66407283e-02,  5.46391420e-02,  1.78500600e-02, -7.61282956e-03,\n",
       "        -4.61103097e-02,  4.10019495e-02, -4.52273414e-02, -2.77623236e-02,\n",
       "         1.95288528e-02, -6.11867569e-02,  1.12644220e-02,  5.08541614e-03,\n",
       "         4.85851355e-02, -9.06991120e-03, -9.79336444e-03,  1.72461290e-02,\n",
       "        -7.30905160e-02,  5.36574014e-02, -3.24015319e-02,  1.24104507e-02,\n",
       "         1.06903296e-02,  3.30721624e-02,  4.14839610e-02,  3.38428654e-02,\n",
       "        -1.12890464e-03, -9.08526033e-02,  3.76021978e-03, -3.49575207e-02,\n",
       "         1.31473681e-02,  1.33827794e-02,  3.44474465e-02,  6.85054511e-02,\n",
       "        -1.42454617e-02, -5.42298891e-02, -8.57380219e-03,  2.42687780e-02,\n",
       "         5.15870042e-02, -2.89775599e-02, -1.47677660e-02, -1.08239362e-02,\n",
       "        -5.66393621e-02, -2.07525073e-03, -3.71209942e-02,  4.00512712e-03,\n",
       "        -5.97901158e-02, -1.55888768e-02,  2.72703748e-02,  1.94720626e-02,\n",
       "         1.87415648e-02, -3.74510251e-02,  2.62067262e-02,  7.50287026e-02,\n",
       "         2.16101240e-02, -1.37813129e-02,  5.01988083e-02, -6.47027371e-03,\n",
       "         5.67430034e-02, -4.03868221e-02, -1.20674968e-02,  8.55052471e-02,\n",
       "        -2.71649961e-03,  2.78823506e-02, -4.38817367e-02, -2.82745175e-02,\n",
       "         1.92068573e-02, -4.36236970e-02,  3.98129337e-02, -5.63067161e-02,\n",
       "         1.37331067e-02,  4.01088549e-03, -7.01445201e-03, -1.51919499e-02,\n",
       "         4.40158024e-02,  2.72325277e-02,  3.32806744e-02,  3.21899466e-02,\n",
       "        -8.18990618e-02, -5.92770800e-02,  2.22220477e-02, -2.69076824e-02,\n",
       "         4.15942147e-02, -1.37761412e-02,  4.10629958e-02,  4.05325294e-02,\n",
       "        -5.58696501e-02,  3.60302478e-02, -6.35681208e-03, -1.65047310e-02,\n",
       "        -1.07167859e-03, -7.76118599e-03,  5.12158871e-02, -3.07670701e-02,\n",
       "        -3.98046896e-02,  2.19666455e-02, -9.50629823e-03,  2.66281273e-02,\n",
       "         3.57357077e-02,  5.89501299e-02,  5.54055814e-03, -1.41580345e-03,\n",
       "        -2.31177304e-02,  2.41293362e-03, -2.71170810e-02, -3.01101282e-02,\n",
       "        -1.71695370e-02, -3.58681865e-02, -4.03450690e-02,  2.02254299e-02,\n",
       "         1.31837679e-02, -1.05260238e-02,  1.65335145e-02, -1.22696450e-02,\n",
       "        -3.93680483e-02,  9.12598614e-03, -1.34845776e-02,  2.73655448e-02,\n",
       "         3.88677791e-02, -3.65220942e-03, -2.11339258e-02,  2.25957017e-04,\n",
       "        -3.12622264e-02, -3.47088836e-02, -4.12916020e-02,  2.91098561e-02,\n",
       "         5.44958934e-02, -1.32070005e-01,  9.59288701e-03, -1.37135331e-02,\n",
       "         4.40675467e-02, -1.03825808e-01,  6.36643097e-02,  8.60992260e-03,\n",
       "         1.49037736e-02,  8.22820468e-04, -2.20600106e-02, -9.55954369e-04,\n",
       "        -4.45745070e-04, -1.26143321e-02, -4.75995652e-02, -2.14227550e-02,\n",
       "         4.69317958e-02,  2.59529073e-02, -1.09704807e-02, -1.69420633e-02,\n",
       "         7.51990685e-03, -5.15509695e-02,  4.28996533e-02,  1.28123187e-03,\n",
       "        -1.04662776e-02, -1.64835844e-02, -4.98015136e-02,  4.39344123e-02,\n",
       "         5.84347360e-02, -4.44175526e-02,  6.89989887e-03,  5.39160557e-02,\n",
       "         1.75765753e-02,  7.08567863e-03, -2.18797270e-02, -1.89143023e-03,\n",
       "         1.05513325e-02, -5.98141588e-02, -3.13123837e-02, -2.73168515e-02,\n",
       "         3.12896781e-02,  5.49116768e-02, -1.85728744e-02, -2.15360932e-02,\n",
       "         6.17362894e-02,  7.07532093e-03,  2.01494396e-02, -4.06040736e-02,\n",
       "         2.30053049e-02,  2.01894883e-02,  1.80803407e-02,  3.35160829e-02,\n",
       "        -2.27059089e-02, -5.81537224e-02,  3.04264668e-02, -1.40142040e-02,\n",
       "         2.95398235e-02,  1.17535172e-02, -7.83733800e-02,  2.78972406e-02,\n",
       "        -4.30106334e-02, -7.59009346e-02,  4.92750779e-02,  7.59606138e-02,\n",
       "         3.54490872e-03,  5.81535846e-02,  4.69778441e-02, -4.00011148e-03,\n",
       "        -4.00546612e-03,  2.51615122e-02, -9.95811969e-02,  3.34291123e-02,\n",
       "        -3.01808584e-03,  3.01541518e-02,  4.54931632e-02, -7.25229904e-02,\n",
       "         4.01625857e-02, -1.16757173e-02, -6.19703997e-03, -9.54162404e-02,\n",
       "        -3.01121734e-02, -2.74963994e-02, -4.44820076e-02,  1.52521394e-03,\n",
       "        -6.31317645e-02, -8.02881345e-02,  4.55777943e-02,  3.08043733e-02,\n",
       "        -4.65144776e-03, -2.48239934e-03, -1.87035576e-02,  3.56814340e-02,\n",
       "        -8.61485824e-02, -8.76673125e-03,  5.94232902e-02,  7.03033656e-02,\n",
       "        -3.35510913e-03,  3.14285159e-02,  3.35557424e-02,  4.47359644e-02,\n",
       "        -1.82780158e-02,  4.33739601e-03, -1.56071940e-02,  4.82698269e-02,\n",
       "         5.78109361e-02, -1.55586109e-03, -3.07916403e-02,  3.06997541e-02,\n",
       "         3.05095799e-02,  4.37345244e-02, -2.46431548e-02, -1.98744517e-02,\n",
       "         7.25641195e-03,  3.61755751e-02, -1.86710358e-02, -1.69779789e-02,\n",
       "         5.28293438e-02,  1.72062847e-03,  3.34720723e-02, -6.57697096e-02,\n",
       "        -3.20816785e-02,  4.12177108e-03,  8.29502661e-03, -4.56412174e-02,\n",
       "         3.20225768e-02, -2.28897668e-02,  5.52556477e-02,  4.02578451e-02,\n",
       "        -2.90956870e-02, -3.44284368e-03, -1.38216969e-02, -6.29018701e-04,\n",
       "         2.53443997e-02,  1.89794172e-02, -4.45094444e-02, -4.78352718e-02,\n",
       "         3.22866440e-02,  6.68825358e-02, -8.67476407e-03, -7.80023867e-03,\n",
       "         2.92888121e-03, -2.42292266e-02, -2.09650975e-02, -1.09208792e-01,\n",
       "        -2.94364542e-02,  1.47712268e-02, -4.47422117e-02, -2.71011032e-02,\n",
       "        -3.91134899e-03,  1.68099739e-02,  3.11841425e-02,  1.24178706e-02,\n",
       "         6.59736386e-03, -4.44687949e-03, -3.45145576e-02, -1.24449958e-03,\n",
       "         5.61033227e-02, -4.12151478e-02,  4.74843197e-02,  3.92921194e-02,\n",
       "        -5.78539111e-02, -4.47588228e-02,  1.95152722e-02,  3.01113036e-02,\n",
       "        -8.72347225e-03, -2.85054818e-02, -7.27255270e-03,  3.58912759e-02,\n",
       "        -7.09610060e-02, -6.56752810e-02,  5.03814453e-03,  2.90020220e-02,\n",
       "         4.08615125e-03,  7.97066744e-03, -2.29644384e-02, -4.41172123e-02,\n",
       "         4.12212275e-02,  2.17066109e-02,  1.23129934e-02, -1.74234305e-02,\n",
       "        -1.55699085e-02, -1.17437784e-02,  5.18719628e-02,  3.44448234e-03,\n",
       "        -6.66774958e-02,  3.35144438e-02, -4.39756690e-03, -3.66432369e-02,\n",
       "         7.48344585e-02,  1.37544079e-02, -5.05722612e-02, -1.69507712e-02,\n",
       "        -9.13899243e-02,  3.94619927e-02, -4.91533838e-02,  2.32399292e-02,\n",
       "        -6.95739500e-03, -2.49377396e-02,  1.79814026e-02, -3.91750745e-02,\n",
       "         2.72794235e-02,  5.39087057e-02,  6.70257062e-02,  2.87340358e-02,\n",
       "         7.15201721e-03,  4.48691435e-02, -2.89590228e-02,  2.67861560e-02,\n",
       "         6.71392903e-02, -3.71879153e-03, -2.13471353e-02,  4.02928814e-02,\n",
       "         5.37431575e-02,  2.69312505e-03,  3.33235748e-02,  4.19459864e-02,\n",
       "         3.77101600e-02,  1.00906594e-02,  1.64033808e-02,  1.37284100e-02,\n",
       "         4.92302403e-02,  5.35364226e-02,  5.79526201e-02, -3.29139158e-02,\n",
       "         1.22460658e-02,  2.88261436e-02, -4.93663223e-03,  2.96172518e-02,\n",
       "         6.32615061e-03, -4.79912311e-02, -3.14917229e-02, -3.97242345e-02,\n",
       "        -3.50666344e-02,  2.99804704e-03, -9.44073498e-03,  2.62554619e-03,\n",
       "         9.90500487e-03, -5.18644899e-02,  2.04040613e-02,  3.75541709e-02,\n",
       "         8.65955278e-03,  3.73828635e-02,  2.54471917e-02, -1.32635077e-02,\n",
       "         8.06262940e-02,  2.10315734e-02, -1.99040771e-02, -1.00638522e-02,\n",
       "        -3.93789001e-02, -3.32227536e-02,  1.41281597e-02,  4.00279835e-02,\n",
       "        -7.60373333e-03, -4.89356741e-02, -2.67797466e-02, -5.59408367e-02,\n",
       "         3.21788639e-02,  8.22695252e-03,  3.76134627e-02,  8.17617960e-03,\n",
       "        -1.37846982e-02, -2.16961056e-02,  1.27261616e-02, -6.38870476e-03,\n",
       "        -8.46950524e-03, -6.06378634e-03, -1.16485571e-02,  1.15113994e-02,\n",
       "         2.72039752e-02, -1.29375355e-02, -1.30015276e-02,  3.71455401e-02,\n",
       "         2.18766071e-02,  2.41833478e-02,  3.43345251e-04, -1.44565478e-02,\n",
       "         3.24437879e-02,  5.78669794e-02,  1.25016235e-02,  1.83984302e-02,\n",
       "        -7.32085481e-02, -1.24307489e-02, -1.85830221e-02, -2.32730201e-03,\n",
       "         1.47508159e-02,  1.19954729e-02, -2.08627619e-03, -2.90985536e-02,\n",
       "         3.42271989e-04, -2.48183012e-02, -2.78203450e-02, -3.26306373e-03,\n",
       "        -1.13068568e-02, -3.82190756e-02, -8.83376822e-02, -2.67931893e-02,\n",
       "        -4.97603267e-02,  1.06248008e-02, -2.03505848e-02,  4.61896285e-02,\n",
       "         3.04142460e-02,  7.39258900e-02, -1.93729140e-02, -6.24436624e-02,\n",
       "        -4.30182517e-02, -2.44439952e-03,  2.31976081e-02,  2.40072478e-02,\n",
       "        -6.32212386e-02, -1.28707765e-02, -1.06627000e-02, -1.21628409e-02,\n",
       "         4.63577360e-02,  8.66870675e-03, -3.91136184e-02,  5.18054049e-03,\n",
       "        -3.37269567e-02,  4.08052690e-02,  4.56021838e-02, -5.35723800e-03,\n",
       "         1.47815049e-02,  6.52762968e-03, -1.91998444e-02,  1.32419588e-02,\n",
       "         1.28353182e-02,  3.14028077e-02,  2.19752900e-02, -1.87768433e-02,\n",
       "         9.01833549e-03,  1.66758746e-02,  1.36962370e-03,  4.85401601e-02,\n",
       "        -5.04996590e-02,  2.72835791e-02, -2.80786445e-03,  8.74805450e-03,\n",
       "         2.16660704e-02,  1.66531634e-02, -4.64341119e-02, -1.94114055e-02,\n",
       "         1.49265658e-02, -2.04601996e-02, -9.30299982e-02, -3.57578206e-03,\n",
       "         4.36929055e-02,  4.18227762e-02, -1.04739890e-02,  9.13388561e-03,\n",
       "        -1.26577094e-02,  9.28765221e-04,  3.03165112e-02,  9.25376918e-03,\n",
       "        -1.58128969e-03,  6.60841465e-02,  1.97659992e-02, -3.60443816e-02,\n",
       "        -3.43122310e-03, -3.59755829e-02,  1.49512002e-02, -2.88110375e-02,\n",
       "         1.71100330e-02,  4.95878048e-02,  3.53193879e-02,  4.19225693e-02,\n",
       "         4.83730398e-02,  1.96336005e-02, -1.70033122e-03,  9.81865823e-02,\n",
       "         1.77093912e-02, -3.84562416e-03, -4.52681482e-02, -4.13472485e-03,\n",
       "        -5.71960360e-02,  1.04758460e-02,  1.73035171e-02,  4.14520763e-02,\n",
       "         1.68829765e-02, -1.23575544e-02, -1.35784848e-02,  6.87891096e-02,\n",
       "         1.86708700e-02,  5.50276190e-02,  2.71758195e-02, -3.02900933e-02,\n",
       "         4.20797728e-02,  3.58545259e-02, -7.05273151e-02,  8.97804648e-03,\n",
       "         3.04065179e-02, -4.93477285e-03, -3.86132933e-02, -6.36185035e-02,\n",
       "        -1.28050530e-02,  1.45554775e-02, -3.86997499e-02, -1.90095361e-02,\n",
       "        -4.16538380e-02, -5.53315282e-02,  3.14248144e-03, -4.05708812e-02,\n",
       "        -4.65663569e-03,  1.20833972e-02,  3.92553657e-02, -1.48489513e-02,\n",
       "        -4.43880670e-02, -1.95002388e-02, -2.00037714e-02, -3.84879224e-02,\n",
       "         6.50727004e-02,  1.58443500e-03,  2.42224038e-02,  2.11767405e-02,\n",
       "        -2.80457176e-02,  5.06496541e-02, -3.17925327e-02, -3.93060297e-02,\n",
       "        -7.48629048e-02, -1.47938803e-02,  2.93556903e-03, -1.90884306e-03,\n",
       "        -4.62152585e-02,  2.79246122e-02,  5.36212437e-02,  5.08887507e-02,\n",
       "        -3.63443419e-02,  4.83042337e-02,  2.08877884e-02,  4.74292338e-02,\n",
       "         4.92656603e-03, -2.71410141e-02,  5.47686033e-02, -4.14410271e-02,\n",
       "        -5.68513758e-03, -3.04765329e-02,  3.94588104e-03, -3.12194899e-02,\n",
       "        -4.37382944e-02,  2.12004017e-02, -1.80493910e-02,  2.81700287e-02,\n",
       "         3.96552011e-02, -5.35950176e-02,  5.33269607e-02,  7.67337205e-03,\n",
       "        -2.33186651e-02, -1.42170051e-02,  5.31647503e-02, -3.49745862e-02,\n",
       "         6.54080957e-02,  4.37313430e-02, -7.25451857e-02,  4.89383824e-02,\n",
       "        -9.12457798e-03,  4.59331796e-02, -3.46429609e-02, -2.72386167e-02,\n",
       "        -3.04769948e-02, -4.05410975e-02,  5.07943444e-02,  2.39161197e-02,\n",
       "        -4.21275981e-02, -7.53407627e-02, -6.36631084e-05,  2.31820364e-02,\n",
       "         2.98201442e-02, -4.67950888e-02,  1.05024846e-02, -8.33882578e-03,\n",
       "        -2.53908839e-02, -2.78923661e-03, -5.80482446e-02, -3.58987972e-02,\n",
       "         1.04234098e-02, -3.31454054e-02, -2.29870919e-02,  1.90615077e-02,\n",
       "        -4.05621082e-02,  3.41114122e-03,  1.07715875e-02,  5.10822423e-02,\n",
       "        -3.88363712e-02, -3.84784862e-02,  4.38734442e-02, -3.46118957e-02,\n",
       "         1.73041131e-02,  1.62715707e-02,  2.14490071e-02, -2.26181746e-02,\n",
       "        -1.69366132e-02,  2.30086483e-02,  2.55133230e-02,  8.10869485e-02,\n",
       "         5.52573204e-02,  1.81327257e-02,  2.32691057e-02,  7.37191811e-02,\n",
       "        -2.53651906e-02,  1.41270263e-02,  7.17899716e-03,  4.39648479e-02,\n",
       "        -1.27545316e-02,  2.30465382e-02,  3.01264413e-02, -7.24178506e-03,\n",
       "         3.82401384e-02,  5.56619577e-02, -6.76997304e-02, -2.43170392e-02,\n",
       "        -1.17052738e-02, -1.58955567e-02,  4.49812822e-02, -5.12632392e-02,\n",
       "         2.38025878e-02,  3.47883925e-02, -3.94906700e-02, -3.04278433e-02,\n",
       "         3.11546195e-02, -2.13785656e-02,  3.09259649e-02,  1.42324967e-02,\n",
       "        -6.56462684e-02,  1.46022765e-02,  3.42594273e-03,  4.44189534e-02,\n",
       "         2.20310921e-03, -1.86533071e-02,  1.99844893e-02, -5.16026020e-02,\n",
       "        -4.81741503e-02,  1.30593171e-02,  1.76972952e-02, -1.19784456e-02,\n",
       "        -9.83291492e-03, -7.01445490e-02, -6.58488795e-02,  6.75936565e-02,\n",
       "        -2.80170068e-02,  7.45117618e-03,  2.41914298e-03,  1.14712827e-02],\n",
       "       dtype=float32)}"
      ]
     },
     "execution_count": 136,
     "metadata": {},
     "output_type": "execute_result"
    }
   ],
   "source": [
    "filtered_documents[0]"
   ]
  },
  {
   "cell_type": "code",
   "execution_count": 145,
   "metadata": {},
   "outputs": [
    {
     "data": {
      "application/vnd.jupyter.widget-view+json": {
       "model_id": "aae79d73357747ad966fa91e6743e6e0",
       "version_major": 2,
       "version_minor": 0
      },
      "text/plain": [
       "  0%|          | 0/375 [00:00<?, ?it/s]"
      ]
     },
     "metadata": {},
     "output_type": "display_data"
    }
   ],
   "source": [
    "for doc in tqdm(filtered_documents):\n",
    "    es_client.index(index=index_name, document=doc)"
   ]
  },
  {
   "cell_type": "code",
   "execution_count": 146,
   "metadata": {},
   "outputs": [],
   "source": []
  },
  {
   "cell_type": "code",
   "execution_count": 154,
   "metadata": {},
   "outputs": [],
   "source": [
    "def elastic_search_knn(field, vector, course):\n",
    "    knn = {\n",
    "        \"field\": field,\n",
    "        \"query_vector\": vector,\n",
    "        \"k\": 5,\n",
    "        \"num_candidates\": 10000,\n",
    "        \"filter\": {\n",
    "            \"term\": {\n",
    "                \"course\": course\n",
    "            }\n",
    "        }\n",
    "    }\n",
    "\n",
    "    search_query = {\n",
    "        \"knn\": knn,\n",
    "        \"_source\": [\"text\", \"section\", \"question\", \"course\", \"id\"]\n",
    "    }\n",
    "\n",
    "    es_results = es_client.search(\n",
    "        index=index_name,\n",
    "        body=search_query\n",
    "    )\n",
    "    \n",
    "    result_docs = []\n",
    "    \n",
    "    for hit in es_results['hits']['hits']:\n",
    "        result_docs.append(hit)\n",
    "\n",
    "    return result_docs"
   ]
  },
  {
   "cell_type": "code",
   "execution_count": 155,
   "metadata": {},
   "outputs": [
    {
     "data": {
      "application/vnd.jupyter.widget-view+json": {
       "model_id": "9349ce9630ca4a81b515d1c42855d46f",
       "version_major": 2,
       "version_minor": 0
      },
      "text/plain": [
       "  0%|          | 0/1830 [00:00<?, ?it/s]"
      ]
     },
     "metadata": {},
     "output_type": "display_data"
    },
    {
     "data": {
      "text/plain": [
       "{'_index': 'course-questions',\n",
       " '_id': 'ZjdcrZABpDUZZRpqrn1D',\n",
       " '_score': 0.7454632,\n",
       " '_source': {'question': 'I just joined. What should I do next? How can I access course materials?',\n",
       "  'course': 'machine-learning-zoomcamp',\n",
       "  'section': 'General course-related questions',\n",
       "  'text': 'Welcome to the course! Go to the course page (http://mlzoomcamp.com/), scroll down and start going through the course materials. Then read everything in the cohort folder for your cohort’s year.\\nClick on the links and start watching the videos. Also watch office hours from previous cohorts. Go to DTC youtube channel and click on Playlists and search for {course yyyy}. ML Zoomcamp was first launched in 2021.\\nOr you can just use this link: http://mlzoomcamp.com/#syllabus',\n",
       "  'id': '0a278fb2'}}"
      ]
     },
     "execution_count": 155,
     "metadata": {},
     "output_type": "execute_result"
    }
   ],
   "source": [
    "#checking if search works\n",
    "relevance_total=[]\n",
    "\n",
    "for q in tqdm(ground_truth):\n",
    "    question = q['question']\n",
    "    course = q['course']\n",
    "    doc_id = q['document']\n",
    "    v_q = model.encode(question)\n",
    "    results = elastic_search_knn('question_text_vector', v_q, course )\n",
    "    break\n",
    "    relevance = [d['id'] == doc_id for d in results]\n",
    "    relevance_total.append(relevance)\n",
    "\n",
    "\n",
    "results[0]"
   ]
  },
  {
   "cell_type": "code",
   "execution_count": 157,
   "metadata": {},
   "outputs": [
    {
     "data": {
      "text/plain": [
       "[{'_index': 'course-questions',\n",
       "  '_id': 'YzdcrZABpDUZZRpqrX34',\n",
       "  '_score': 0.82532895,\n",
       "  '_source': {'question': 'The course has already started. Can I still join it?',\n",
       "   'course': 'machine-learning-zoomcamp',\n",
       "   'section': 'General course-related questions',\n",
       "   'text': 'Yes, you can. You won’t be able to submit some of the homeworks, but you can still take part in the course.\\nIn order to get a certificate, you need to submit 2 out of 3 course projects and review 3 peers’ Projects by the deadline. It means that if you join the course at the end of November and manage to work on two projects, you will still be eligible for a certificate.',\n",
       "   'id': 'ee58a693'}},\n",
       " {'_index': 'course-questions',\n",
       "  '_id': 'ZjdcrZABpDUZZRpqrn1D',\n",
       "  '_score': 0.73585373,\n",
       "  '_source': {'question': 'I just joined. What should I do next? How can I access course materials?',\n",
       "   'course': 'machine-learning-zoomcamp',\n",
       "   'section': 'General course-related questions',\n",
       "   'text': 'Welcome to the course! Go to the course page (http://mlzoomcamp.com/), scroll down and start going through the course materials. Then read everything in the cohort folder for your cohort’s year.\\nClick on the links and start watching the videos. Also watch office hours from previous cohorts. Go to DTC youtube channel and click on Playlists and search for {course yyyy}. ML Zoomcamp was first launched in 2021.\\nOr you can just use this link: http://mlzoomcamp.com/#syllabus',\n",
       "   'id': '0a278fb2'}},\n",
       " {'_index': 'course-questions',\n",
       "  '_id': 'WjdcrZABpDUZZRpqrH31',\n",
       "  '_score': 0.7295,\n",
       "  '_source': {'question': \"I filled the form, but haven't received a confirmation email. Is it normal?\",\n",
       "   'course': 'machine-learning-zoomcamp',\n",
       "   'section': 'General course-related questions',\n",
       "   'text': \"The process is automated now, so you should receive the email eventually. If you haven’t, check your promotions tab in Gmail as well as spam.\\nIf you unsubscribed from our newsletter, you won't get course related updates too.\\nBut don't worry, it’s not a problem. To make sure you don’t miss anything, join the #course-ml-zoomcamp channel in Slack and our telegram channel with announcements. This is enough to follow the course.\",\n",
       "   'id': '6ba259b1'}},\n",
       " {'_index': 'course-questions',\n",
       "  '_id': 'yDdcrZABpDUZZRpq0H7r',\n",
       "  '_score': 0.72849524,\n",
       "  '_source': {'question': 'Can I do the course in other languages, like R or Scala?',\n",
       "   'course': 'machine-learning-zoomcamp',\n",
       "   'section': 'Miscellaneous',\n",
       "   'text': 'Technically, yes. Advisable? Not really. Reasons:\\nSome homework(s) asks for specific python library versions.\\nAnswers may not match in MCQ options if using different languages other than Python 3.10 (the recommended version for 2023 cohort)\\nAnd as for midterms/capstones, your peer-reviewers may not know these other languages. Do you want to be penalized for others not knowing these other languages?\\nYou can create a separate repo using course’s lessons but written in other languages for your own learnings, but not advisable for submissions.\\ntx[source]',\n",
       "   'id': '9f261648'}},\n",
       " {'_index': 'course-questions',\n",
       "  '_id': 'aTdcrZABpDUZZRpqrn2U',\n",
       "  '_score': 0.7252791,\n",
       "  '_source': {'question': 'The course videos are from the previous iteration. Will you release new ones or we’ll use the videos from 2021?',\n",
       "   'course': 'machine-learning-zoomcamp',\n",
       "   'section': 'General course-related questions',\n",
       "   'text': 'We won’t re-record the course videos. The focus of the course and the skills we want to teach remained the same, and the videos are still up-to-date.\\nIf you haven’t taken part in the previous iteration, you can start watching the videos. It’ll be useful for you and you will learn new things. However, we recommend using Python 3.10 now instead of Python 3.8.',\n",
       "   'id': 'e7ba6b8a'}}]"
      ]
     },
     "execution_count": 157,
     "metadata": {},
     "output_type": "execute_result"
    }
   ],
   "source": [
    "user_question = \"I just discovered the course. Can I still join it?\"\n",
    "\n",
    "uq = model.encode(user_question)\n",
    "results_q1 = elastic_search_knn('question_text_vector', uq, course )\n",
    "results_q1"
   ]
  },
  {
   "cell_type": "markdown",
   "metadata": {},
   "source": [
    "# Q6. Hit-rate for Elasticsearch\n",
    "\n",
    "The search engine we used in Q4 computed the similarity between the query and ALL the vectors in our database. Usually this is not practical, as we may have a lot of data.\n",
    "\n",
    "Elasticsearch uses approximate techniques to make it faster.\n",
    "\n",
    "Let's evaluate how worse the results are when we switch from exact search (as in Q4) to approximate search with Elastic.\n",
    "\n",
    "What's hitrate for our dataset for Elastic?\n"
   ]
  },
  {
   "cell_type": "code",
   "execution_count": null,
   "metadata": {},
   "outputs": [],
   "source": [
    "def elastic_search_knn(field, vector, course):\n",
    "    knn = {\n",
    "        \"field\": field,\n",
    "        \"query_vector\": vector,\n",
    "        \"k\": 5,\n",
    "        \"num_candidates\": 10000,\n",
    "        \"filter\": {\n",
    "            \"term\": {\n",
    "                \"course\": course\n",
    "            }\n",
    "        }\n",
    "    }\n",
    "\n",
    "    search_query = {\n",
    "        \"knn\": knn,\n",
    "        \"_source\": [\"text\", \"section\", \"question\", \"course\", \"id\"]\n",
    "    }\n",
    "\n",
    "    es_results = es_client.search(\n",
    "        index=index_name,\n",
    "        body=search_query\n",
    "    )\n",
    "    \n",
    "    result_docs = []\n",
    "    \n",
    "    for hit in es_results['hits']['hits']:\n",
    "        result_docs.append(hit['_source'])\n",
    "\n",
    "    return result_docs"
   ]
  },
  {
   "cell_type": "code",
   "execution_count": 131,
   "metadata": {},
   "outputs": [],
   "source": [
    "def question_text_vector_knn(q):\n",
    "    question = q['question']\n",
    "    course = q['course']\n",
    "\n",
    "    v_q = model.encode(question)\n",
    "\n",
    "    return elastic_search_knn('question_text_vector', v_q, course)"
   ]
  },
  {
   "cell_type": "code",
   "execution_count": 148,
   "metadata": {},
   "outputs": [],
   "source": [
    "def evaluate(ground_truth, search_function):\n",
    "    relevance_total = []\n",
    "\n",
    "    for q in tqdm(ground_truth):\n",
    "        doc_id = q['document']\n",
    "        results = search_function(q)\n",
    "        relevance = [d['id'] == doc_id for d in results]\n",
    "        relevance_total.append(relevance)\n",
    "\n",
    "    return {\n",
    "        'hit_rate': hit_rate(relevance_total),\n",
    "        'mrr': mrr(relevance_total),\n",
    "    }"
   ]
  },
  {
   "cell_type": "code",
   "execution_count": 149,
   "metadata": {},
   "outputs": [
    {
     "data": {
      "application/vnd.jupyter.widget-view+json": {
       "model_id": "6bf4244cdd704dfbbb37e468221fb07a",
       "version_major": 2,
       "version_minor": 0
      },
      "text/plain": [
       "  0%|          | 0/1830 [00:00<?, ?it/s]"
      ]
     },
     "metadata": {},
     "output_type": "display_data"
    },
    {
     "data": {
      "text/plain": [
       "{'hit_rate': 0.9398907103825137, 'mrr': 0.8516484517304189}"
      ]
     },
     "execution_count": 149,
     "metadata": {},
     "output_type": "execute_result"
    }
   ],
   "source": [
    "evaluate(ground_truth, question_text_vector_knn)"
   ]
  }
 ],
 "metadata": {
  "kernelspec": {
   "display_name": "Python 3",
   "language": "python",
   "name": "python3"
  },
  "language_info": {
   "codemirror_mode": {
    "name": "ipython",
    "version": 3
   },
   "file_extension": ".py",
   "mimetype": "text/x-python",
   "name": "python",
   "nbconvert_exporter": "python",
   "pygments_lexer": "ipython3",
   "version": "3.10.13"
  }
 },
 "nbformat": 4,
 "nbformat_minor": 2
}
